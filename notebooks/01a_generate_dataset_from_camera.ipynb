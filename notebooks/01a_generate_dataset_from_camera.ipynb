{
 "cells": [
  {
   "cell_type": "markdown",
   "metadata": {},
   "source": [
    "# Generate dataset for image segmentation from a live video camera\n",
    "\n",
    "We now use a simple GUI to generate new dataset for image segmentation. \n",
    "\n",
    "Here are the steps:\n",
    "\n",
    "\n",
    "* Get an image from a camera (could later be a video or images). \n",
    "* Click on the video to extract one image, and then click again to label the oject on the image.\n",
    "* Save image, coordinate and mask to the dataset.\n",
    "* Split images and mask as a train and validation dataset.\n",
    "\n",
    "You want at least 150 imgaes to get ok tracking. We can further improve the model later on."
   ]
  },
  {
   "cell_type": "code",
   "execution_count": 2,
   "metadata": {},
   "outputs": [],
   "source": [
    "import matplotlib.pyplot as plt\n",
    "import cv2\n",
    "import numpy as np\n",
    "import ipywidgets as widgets\n",
    "from ipyevents import Event \n",
    "import threading\n",
    "from IPython.display import display\n",
    "from camera import USBCamera, bgr8_to_jpeg\n",
    "from multiClassUNetDataset import MultiClassUNetDataset\n",
    "from trackingProject import TrackingProject\n",
    "from unetGUI import LabelFromCameraGUI"
   ]
  },
  {
   "cell_type": "markdown",
   "metadata": {},
   "source": [
    "## Create a project\n",
    "\n",
    "All the configuration is stored in the project object. You can modify the configuration by modifying the `config.yalm` file and loading it. \n",
    "\n",
    "If it is the creation of the project, run the cell below."
   ]
  },
  {
   "cell_type": "code",
   "execution_count": 3,
   "metadata": {},
   "outputs": [],
   "source": [
    "#project = TrackingProject(name=\"faceTrack\",root_folder = \"/home/kevin/Documents/trackingProjects/\",object_list=[\"nose\",\"chin\",\"rEye\",\"lEye\"],target_radius=10)\n",
    "#project.create_project_directories()\n",
    "#project.save_configuration()"
   ]
  },
  {
   "cell_type": "markdown",
   "metadata": {},
   "source": [
    "If you already have a project, run the cell below."
   ]
  },
  {
   "cell_type": "code",
   "execution_count": 4,
   "metadata": {},
   "outputs": [
    {
     "name": "stdout",
     "output_type": "stream",
     "text": [
      "Project directory: /home/kevin/Documents/trackingProjects/faceTrack\n",
      "Loading /home/kevin/Documents/trackingProjects/faceTrack/config.yalm\n",
      "{'augmentation_HorizontalFlipProb': 0.0, 'augmentation_RandomBrightnessContrastProb': 0.2, 'augmentation_RandomSizedCropProb': 1.0, 'augmentation_RotateProb': 0.3, 'image_size': [480, 640], 'labeling_ImageEnlargeFactor': 2.0, 'name': 'faceTrack', 'object_colors': [(0.0, 0.0, 255.0), (255.0, 0.0, 0.0), (255.0, 255.0, 0.0), (128.0, 0.0, 128.0)], 'objects': ['nose', 'chin', 'rEye', 'lEye'], 'target_radius': 10}\n"
     ]
    }
   ],
   "source": [
    "project = TrackingProject(name=\"faceTrack\",root_folder = \"/home/kevin/Documents/trackingProjects/\")"
   ]
  },
  {
   "cell_type": "code",
   "execution_count": 5,
   "metadata": {},
   "outputs": [],
   "source": [
    "dataset = MultiClassUNetDataset(image_dir=project.image_dir, mask_dir=project.mask_dir, coordinates_dir=project.coordinates_dir)"
   ]
  },
  {
   "cell_type": "code",
   "execution_count": 6,
   "metadata": {},
   "outputs": [
    {
     "data": {
      "text/plain": [
       "370"
      ]
     },
     "execution_count": 6,
     "metadata": {},
     "output_type": "execute_result"
    }
   ],
   "source": [
    "len(dataset)"
   ]
  },
  {
   "cell_type": "markdown",
   "metadata": {},
   "source": [
    "## Get images from a camera\n",
    "\n",
    "We can use OpenCV to get images from a camera."
   ]
  },
  {
   "cell_type": "code",
   "execution_count": 6,
   "metadata": {},
   "outputs": [
    {
     "name": "stdout",
     "output_type": "stream",
     "text": [
      "crw-rw----+ 1 root video 81, 1 Nov 24 07:39 /dev/video1\n",
      "crw-rw----+ 1 root video 81, 0 Nov 24 07:39 /dev/video0\n"
     ]
    }
   ],
   "source": [
    "!ls -ltrh /dev/video*"
   ]
  },
  {
   "cell_type": "markdown",
   "metadata": {},
   "source": [
    "## Camera class running its own thread\n",
    "\n",
    "We want the imgWidget to be updated from a different thread. For this we need to build a camera thread.\n",
    "This should allow us to record click events on our image.\n",
    "\n",
    "This is similar to the NVIDIA jetcam/camera.py class.\n"
   ]
  },
  {
   "cell_type": "code",
   "execution_count": 7,
   "metadata": {},
   "outputs": [],
   "source": [
    "camera = USBCamera(width=project.image_size[1], height=project.image_size[0])"
   ]
  },
  {
   "cell_type": "code",
   "execution_count": 8,
   "metadata": {},
   "outputs": [
    {
     "name": "stdout",
     "output_type": "stream",
     "text": [
      "(480, 640, 3)\n"
     ]
    }
   ],
   "source": [
    "image = camera.read()\n",
    "print(image.shape)\n"
   ]
  },
  {
   "cell_type": "code",
   "execution_count": 9,
   "metadata": {},
   "outputs": [
    {
     "data": {
      "application/vnd.jupyter.widget-view+json": {
       "model_id": "d80f3173883d49b39920b2a603173f3a",
       "version_major": 2,
       "version_minor": 0
      },
      "text/plain": [
       "Image(value=b'\\xff\\xd8\\xff\\xe0\\x00\\x10JFIF\\x00\\x01\\x01\\x00\\x00\\x01\\x00\\x01\\x00\\x00\\xff\\xdb\\x00C\\x00\\x02\\x01\\x0…"
      ]
     },
     "metadata": {},
     "output_type": "display_data"
    }
   ],
   "source": [
    "imgWidget = widgets.Image(format='jpeg')\n",
    "imgWidget.value = bgr8_to_jpeg(image)\n",
    "display(imgWidget)"
   ]
  },
  {
   "cell_type": "markdown",
   "metadata": {},
   "source": [
    "# Extract and label images from video feed\n",
    "\n",
    "We need a function to save the current image and mask.\n",
    "\n",
    "I create a folder called `noseDataset` with a subfolder `train` and `train_mask`"
   ]
  },
  {
   "cell_type": "code",
   "execution_count": 10,
   "metadata": {},
   "outputs": [
    {
     "data": {
      "text/plain": [
       "('/home/kevin/Documents/trackingProjects/faceTrack/dataset/images',\n",
       " '/home/kevin/Documents/trackingProjects/faceTrack/dataset/mask')"
      ]
     },
     "execution_count": 10,
     "metadata": {},
     "output_type": "execute_result"
    }
   ],
   "source": [
    "project.image_dir,project.mask_dir"
   ]
  },
  {
   "cell_type": "code",
   "execution_count": 11,
   "metadata": {},
   "outputs": [],
   "source": [
    "dataset = MultiClassUNetDataset(image_dir=project.image_dir, mask_dir=project.mask_dir, coordinates_dir=project.coordinates_dir)"
   ]
  },
  {
   "cell_type": "code",
   "execution_count": 12,
   "metadata": {},
   "outputs": [
    {
     "data": {
      "application/vnd.jupyter.widget-view+json": {
       "model_id": "7bb06c077b424ff39d10e3cc38467596",
       "version_major": 2,
       "version_minor": 0
      },
      "text/plain": [
       "VBox(children=(HBox(children=(Image(value=b'', format='jpeg', height='240.0', width='320.0'), ToggleButtons(de…"
      ]
     },
     "metadata": {},
     "output_type": "display_data"
    }
   ],
   "source": [
    "gui = LabelFromCameraGUI(camera,project,dataset)"
   ]
  },
  {
   "cell_type": "code",
   "execution_count": 22,
   "metadata": {},
   "outputs": [],
   "source": [
    "gui.stop_video()"
   ]
  },
  {
   "cell_type": "code",
   "execution_count": 23,
   "metadata": {},
   "outputs": [
    {
     "name": "stdout",
     "output_type": "stream",
     "text": [
      "326\n"
     ]
    }
   ],
   "source": [
    "print(len(dataset))\n",
    "      "
   ]
  },
  {
   "cell_type": "code",
   "execution_count": 24,
   "metadata": {},
   "outputs": [],
   "source": [
    "image, mask, coordinates = dataset[0]"
   ]
  },
  {
   "cell_type": "code",
   "execution_count": 25,
   "metadata": {},
   "outputs": [
    {
     "data": {
      "text/plain": [
       "(torch.Size([3, 480, 640]), torch.Size([4, 480, 640]), (4, 2))"
      ]
     },
     "execution_count": 25,
     "metadata": {},
     "output_type": "execute_result"
    }
   ],
   "source": [
    "image.shape, mask.shape, coordinates.shape"
   ]
  },
  {
   "cell_type": "code",
   "execution_count": 26,
   "metadata": {},
   "outputs": [
    {
     "data": {
      "text/plain": [
       "<matplotlib.image.AxesImage at 0x7fa779ea3b50>"
      ]
     },
     "execution_count": 26,
     "metadata": {},
     "output_type": "execute_result"
    },
    {
     "data": {
      "image/png": "[encoded data removed]",
      "text/plain": [
       "<Figure size 600x300 with 2 Axes>"
      ]
     },
     "metadata": {},
     "output_type": "display_data"
    }
   ],
   "source": [
    "fig , ax = plt.subplots(1,2, figsize=(6,3))\n",
    "ax[0].imshow(image.permute(1,2,0))\n",
    "ax[1].imshow(mask.permute(1,2,0).sum(axis=2))\n",
    "\n"
   ]
  },
  {
   "cell_type": "markdown",
   "metadata": {},
   "source": [
    "# Create training and validation sets\n",
    "\n",
    "The images and masks were saved in an `images` and `masks` directories. We need to create `train_images`, `train_masks`, `val_images` and `val_masks` directories.\n",
    "\n",
    "We will use the validation folders to estimate the accuracy of our model on data that it has not seen during training."
   ]
  },
  {
   "cell_type": "code",
   "execution_count": 27,
   "metadata": {},
   "outputs": [
    {
     "data": {
      "text/plain": [
       "('/home/kevin/Documents/trackingProjects/faceTrack/dataset/images',\n",
       " '/home/kevin/Documents/trackingProjects/faceTrack/dataset/mask')"
      ]
     },
     "execution_count": 27,
     "metadata": {},
     "output_type": "execute_result"
    }
   ],
   "source": [
    "project.image_dir,project.mask_dir"
   ]
  },
  {
   "cell_type": "code",
   "execution_count": 28,
   "metadata": {},
   "outputs": [
    {
     "name": "stdout",
     "output_type": "stream",
     "text": [
      "Length of training set: 277\n",
      "Length of validation set: 49\n",
      "Copying files to training and validation directories\n"
     ]
    }
   ],
   "source": [
    "dataset.create_training_validation_dataset(train_images_dir = \"/home/kevin/Documents/trackingProjects/faceTrack/dataset/train_images\",\n",
    "                                           train_masks_dir = \"/home/kevin/Documents/trackingProjects/faceTrack/dataset/train_masks\",\n",
    "                                           train_coordinates_dir = \"/home/kevin/Documents/trackingProjects/faceTrack/dataset/train_coordinates\",\n",
    "                                               \n",
    "                                           val_images_dir = \"/home/kevin/Documents/trackingProjects/faceTrack/dataset/val_images\",\n",
    "                                           val_masks_dir = \"/home/kevin/Documents/trackingProjects/faceTrack/dataset/val_masks\",\n",
    "                                           val_coordinates_dir = \"/home/kevin/Documents/trackingProjects/faceTrack/dataset/val_coordinates\",\n",
    "                                           test_size=0.15)"
   ]
  },
  {
   "cell_type": "code",
   "execution_count": 29,
   "metadata": {},
   "outputs": [
    {
     "data": {
      "text/plain": [
       "277"
      ]
     },
     "execution_count": 29,
     "metadata": {},
     "output_type": "execute_result"
    }
   ],
   "source": [
    "train_images_dir = \"/home/kevin/Documents/trackingProjects/faceTrack/dataset/train_images\"\n",
    "train_masks_dir = \"/home/kevin/Documents/trackingProjects/faceTrack/dataset/train_masks\"\n",
    "train_coordinates_dir = \"/home/kevin/Documents/trackingProjects/faceTrack/dataset/train_coordinates\"\n",
    "trainDataset = MultiClassUNetDataset(image_dir=train_images_dir, mask_dir=train_masks_dir,coordinates_dir=train_coordinates_dir)\n",
    "len(trainDataset)"
   ]
  },
  {
   "cell_type": "code",
   "execution_count": 30,
   "metadata": {},
   "outputs": [
    {
     "data": {
      "text/plain": [
       "49"
      ]
     },
     "execution_count": 30,
     "metadata": {},
     "output_type": "execute_result"
    }
   ],
   "source": [
    "val_images_dir = \"/home/kevin/Documents/trackingProjects/faceTrack/dataset/val_images\"\n",
    "val_masks_dir = \"/home/kevin/Documents/trackingProjects/faceTrack/dataset/val_masks\"\n",
    "val_coordinates_dir = \"/home/kevin/Documents/trackingProjects/faceTrack/dataset/val_coordinates\"\n",
    "valDataset = MultiClassUNetDataset(image_dir=val_images_dir, mask_dir=val_masks_dir,coordinates_dir=val_coordinates_dir)\n",
    "len(valDataset)"
   ]
  },
  {
   "cell_type": "markdown",
   "metadata": {},
   "source": [
    "We are now ready to train a network with this data."
   ]
  },
  {
   "cell_type": "code",
   "execution_count": null,
   "metadata": {},
   "outputs": [],
   "source": []
  }
 ],
 "metadata": {
  "kernelspec": {
   "display_name": "Python 3 (ipykernel)",
   "language": "python",
   "name": "python3"
  },
  "language_info": {
   "codemirror_mode": {
    "name": "ipython",
    "version": 3
   },
   "file_extension": ".py",
   "mimetype": "text/x-python",
   "name": "python",
   "nbconvert_exporter": "python",
   "pygments_lexer": "ipython3",
   "version": "3.8.10"
  }
 },
 "nbformat": 4,
 "nbformat_minor": 4
}
