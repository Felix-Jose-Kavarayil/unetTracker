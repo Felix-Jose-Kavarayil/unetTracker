{
 "cells": [
  {
   "cell_type": "markdown",
   "id": "1de233e0-a3de-472b-b3a4-3939836dc170",
   "metadata": {},
   "source": [
    "# Train U-Net\n",
    "\n",
    "This is very similar code to `11_unet_carvana.ipynb` but we have 2 classes instead of 1.\n",
    "\n",
    "With approximately 400 images in the training set, I trained for 100 epochs and get very good results for face tracking.\n"
   ]
  },
  {
   "cell_type": "code",
   "execution_count": 1,
   "id": "25aafef6-1f53-47b4-96e3-8af83fc1cf86",
   "metadata": {},
   "outputs": [],
   "source": [
    "import torch\n",
    "from torch.utils.data import DataLoader\n",
    "import numpy as np\n",
    "import matplotlib.pyplot as plt\n",
    "import os\n",
    "from tqdm import tqdm\n",
    "from torch import optim\n",
    "import torch.nn as nn\n",
    "from datetime import datetime\n",
    "import albumentations as A\n",
    "import cv2\n",
    "\n",
    "from unetTracker.trackingProject import TrackingProject\n",
    "from unetTracker.dataset import UNetDataset\n",
    "from unetTracker.unet import Unet\n",
    "from unetTracker.coordinatesFromSegmentationMask import CoordinatesFromSegmentationMask"
   ]
  },
  {
   "cell_type": "code",
   "execution_count": 2,
   "id": "8ca89a04-3bec-4342-9100-0576ee8a3a99",
   "metadata": {},
   "outputs": [
    {
     "name": "stdout",
     "output_type": "stream",
     "text": [
      "Project directory: /home/kevin/Documents/trackingProjects/mouseTrack\n",
      "Loading /home/kevin/Documents/trackingProjects/mouseTrack/config.yalm\n",
      "{'augmentation_HorizontalFlipProb': 0.0, 'augmentation_RandomBrightnessContrastProb': 0.2, 'augmentation_RandomSizedCropProb': 1.0, 'augmentation_RotateProb': 0.3, 'image_size': [480, 480], 'labeling_ImageEnlargeFactor': 2.0, 'name': 'mouseTrack', 'normalization_values': {'means': [0.39945241808891296, 0.3994884490966797, 0.39926499128341675], 'stds': [0.11478571593761444, 0.11476266384124756, 0.11492700129747391]}, 'object_colors': [(0.0, 0.0, 255.0), (255.0, 0.0, 0.0), (255.0, 255.0, 0.0), (240.0, 255.0, 255.0)], 'objects': ['snout', 'earL', 'earR', 'tail'], 'target_radius': 5}\n"
     ]
    }
   ],
   "source": [
    "project = TrackingProject(name=\"mouseTrack\",root_folder = \"/home/kevin/Documents/trackingProjects/\")"
   ]
  },
  {
   "cell_type": "markdown",
   "id": "cf836a27-2efd-4e4f-b117-c7055cec81fd",
   "metadata": {},
   "source": [
    "## Hyperparameters"
   ]
  },
  {
   "cell_type": "code",
   "execution_count": 3,
   "id": "8b7b231b-ee84-4204-afb5-4f486a164beb",
   "metadata": {},
   "outputs": [],
   "source": [
    "LEARNING_RATE=1e-4\n",
    "DEVICE = (torch.device(\"cuda\") if torch.cuda.is_available() else torch.device(\"cpu\")) \n",
    "BATCH_SIZE=4\n",
    "NUM_EPOCHS = 100\n",
    "NUM_WORKERS = 4\n",
    "OUTPUT_CHANNELS = len(project.object_list)\n",
    "IMAGE_HEIGHT = project.image_size[0]\n",
    "IMAGE_WIDTH = project.image_size[1]\n",
    "PIN_MEMORY = True\n",
    "LOAD_MODEL = True\n",
    "TRAIN_IMAGE_DIR = os.path.join(project.dataset_dir,\"train_images\")\n",
    "TRAIN_MASK_DIR =  os.path.join(project.dataset_dir,\"train_masks\")\n",
    "TRAIN_COORDINATE_DIR = os.path.join(project.dataset_dir,\"train_coordinates\")\n",
    "VAL_IMAGE_DIR = os.path.join(project.dataset_dir,\"val_images\")\n",
    "VAL_MASK_DIR =  os.path.join(project.dataset_dir,\"val_masks\")\n",
    "VAL_COORDINATE_DIR = os.path.join(project.dataset_dir,\"val_coordinates\")"
   ]
  },
  {
   "cell_type": "markdown",
   "id": "8a7a08fc-1cde-466b-9917-086be4b5cf94",
   "metadata": {},
   "source": [
    "## Model, loss, and optimizer"
   ]
  },
  {
   "cell_type": "code",
   "execution_count": 4,
   "id": "1c7729f9-1692-4a26-97f6-083b8853d615",
   "metadata": {},
   "outputs": [],
   "source": [
    "model = Unet(in_channels=3, out_channels=OUTPUT_CHANNELS).to(DEVICE)\n",
    "if LOAD_MODEL:\n",
    "    project.load_model(model)\n",
    "\n",
    "loss_fn = nn.BCEWithLogitsLoss() # not doing sigmoid on the output of the model, so use this, if we had more classes (objects) we would use change out_chan and cross_entropy_loss as loss_fn\n",
    "optimizer= optim.Adam(model.parameters(),lr=LEARNING_RATE)\n",
    "scaler = torch.cuda.amp.GradScaler()"
   ]
  },
  {
   "cell_type": "markdown",
   "id": "ef1ef1c3-3370-4a29-b25f-3b17398bb494",
   "metadata": {
    "tags": []
   },
   "source": [
    "## Data augmentation and normalization\n",
    "\n",
    "I am using the [albumentations](https://albumentations.ai/) package to do data augmentation.\n",
    "\n",
    "We might want to do some data augmentation when training so that the images are modified slightly between epochs. This improves generalization of the model and prevent overfitting.\n",
    "\n",
    "We also want to perform data normalization so that the mean of each channel is 0 and the std is 1. This facilitate learning. See the notebook on data normalization.\n",
    "\n",
    "Here I am using 4 transformations. We can set the probability that this transformation is applied using the `p` argument. You can set it in the project configuration file. Alternatively, you can edit the code below.\n",
    "\n",
    "Tips\n",
    "\n",
    "* If you are tracking left/right body parts, you probably don't want to flip your images.\n"
   ]
  },
  {
   "cell_type": "code",
   "execution_count": 5,
   "id": "9c27d33e-2ef9-4e2d-ae0e-8aceb41df302",
   "metadata": {},
   "outputs": [
    {
     "name": "stdout",
     "output_type": "stream",
     "text": [
      "Compose([\n",
      "  RandomSizedCrop(always_apply=False, p=1.0, min_max_height=(430, 480), height=480, width=480, w2h_ratio=1.0, interpolation=1),\n",
      "  HorizontalFlip(always_apply=False, p=0.0),\n",
      "  Rotate(always_apply=False, p=0.3, limit=(-30, 30), interpolation=1, border_mode=0, value=None, mask_value=None, rotate_method='largest_box', crop_border=False),\n",
      "  RandomBrightnessContrast(always_apply=False, p=0.2, brightness_limit=(-0.2, 0.2), contrast_limit=(-0.2, 0.2), brightness_by_max=True),\n",
      "  Normalize(always_apply=False, p=1.0, mean=[0.39945241808891296, 0.3994884490966797, 0.39926499128341675], std=[0.11478571593761444, 0.11476266384124756, 0.11492700129747391], max_pixel_value=255.0),\n",
      "], p=1.0, bbox_params=None, keypoint_params=None, additional_targets={})\n",
      "Compose([\n",
      "  Normalize(always_apply=False, p=1.0, mean=[0.39945241808891296, 0.3994884490966797, 0.39926499128341675], std=[0.11478571593761444, 0.11476266384124756, 0.11492700129747391], max_pixel_value=255.0),\n",
      "], p=1.0, bbox_params=None, keypoint_params=None, additional_targets={})\n"
     ]
    }
   ],
   "source": [
    "original_height = project.image_size[0]\n",
    "original_width = project.image_size[1]\n",
    "means = project.normalization_values[\"means\"]\n",
    "stds = project.normalization_values[\"stds\"]\n",
    "\n",
    "\n",
    "trainTransform = A.Compose([   \n",
    "                    A.RandomSizedCrop(min_max_height=(original_height-50, original_height),w2h_ratio=original_width/original_height,height=original_height, width=original_width, p=project.augmentation_RandomSizedCropProb),\n",
    "                    A.HorizontalFlip(p=project.augmentation_HorizontalFlipProb),\n",
    "                    A.Rotate (limit=30,border_mode=cv2.BORDER_CONSTANT,p=project.augmentation_RotateProb),\n",
    "                    A.RandomBrightnessContrast(p=project.augmentation_RandomBrightnessContrastProb),\n",
    "                    A.Normalize(mean=means, std=stds)\n",
    "])\n",
    "\n",
    "valTransform = A.Compose([   \n",
    "                    A.Normalize(mean=means, std=stds)\n",
    "])\n",
    "\n",
    "\n",
    "print(trainTransform)\n",
    "print(valTransform)"
   ]
  },
  {
   "cell_type": "markdown",
   "id": "d512b108-1935-45d9-9e9a-de939e710d13",
   "metadata": {},
   "source": [
    "## Datasets and DataLoaders"
   ]
  },
  {
   "cell_type": "code",
   "execution_count": 6,
   "id": "7bfa5b17-653a-4db8-9c31-d5c7e72176ce",
   "metadata": {},
   "outputs": [],
   "source": [
    "trainDataset = UNetDataset(TRAIN_IMAGE_DIR, TRAIN_MASK_DIR,TRAIN_COORDINATE_DIR, transform=trainTransform)\n",
    "valDataset = UNetDataset(VAL_IMAGE_DIR, VAL_MASK_DIR,VAL_COORDINATE_DIR, transform=valTransform)\n",
    "trainLoader = DataLoader(trainDataset,shuffle=True,batch_size=BATCH_SIZE, num_workers=NUM_WORKERS,pin_memory=PIN_MEMORY)\n",
    "valLoader = DataLoader(valDataset,shuffle=False,batch_size=BATCH_SIZE, num_workers=NUM_WORKERS,pin_memory = PIN_MEMORY)"
   ]
  },
  {
   "cell_type": "code",
   "execution_count": 7,
   "id": "4ab3a05a-01e1-4a9c-b4cb-bb266f1a0106",
   "metadata": {},
   "outputs": [],
   "source": [
    "BATCH_SIZE=2\n",
    "trainLoader = DataLoader(trainDataset,\n",
    "                          shuffle=True,\n",
    "                          batch_size=BATCH_SIZE,\n",
    "                          num_workers=4)\n",
    "valLoader = DataLoader(valDataset,\n",
    "                          shuffle=False,\n",
    "                          batch_size=BATCH_SIZE,\n",
    "                          num_workers=4)"
   ]
  },
  {
   "cell_type": "code",
   "execution_count": 8,
   "id": "b334993f-4f13-4c09-a056-66955f3b2e15",
   "metadata": {},
   "outputs": [
    {
     "data": {
      "text/plain": [
       "(torch.Size([2, 3, 480, 480]), torch.Size([2, 4, 480, 480]))"
      ]
     },
     "execution_count": 8,
     "metadata": {},
     "output_type": "execute_result"
    }
   ],
   "source": [
    "imgs, masks, _ = next(iter(trainLoader))\n",
    "imgs.shape, masks.shape"
   ]
  },
  {
   "cell_type": "markdown",
   "id": "a02b3647-f375-4080-8c9f-0d508bd2ac67",
   "metadata": {},
   "source": [
    "There is a lot of black because half of our pixels are below 0, on average.\n"
   ]
  },
  {
   "cell_type": "markdown",
   "id": "6ea71b15-19ff-4fe3-b6ef-a0afd0f15e13",
   "metadata": {},
   "source": [
    "# Save and load checkpoint"
   ]
  },
  {
   "cell_type": "code",
   "execution_count": 9,
   "id": "0991b991-75e3-497d-ac6e-d2b5fb91fec9",
   "metadata": {},
   "outputs": [],
   "source": [
    "def save_checkpoint(state, filename = \"my_checkpoint.pth.tar\"):\n",
    "    #print(\"Saving checkpoint\")\n",
    "    torch.save(state,filename)"
   ]
  },
  {
   "cell_type": "markdown",
   "id": "369b0c4c-b328-40bc-a6a3-c09489dd7200",
   "metadata": {},
   "source": [
    "## Check accuracy"
   ]
  },
  {
   "cell_type": "code",
   "execution_count": 10,
   "id": "6b2bbbef-a284-4fa6-89ad-906bc5712ffd",
   "metadata": {},
   "outputs": [],
   "source": [
    "def check_accuracy(model,loader,device):\n",
    "\n",
    "    num_correct = 0\n",
    "    num_pixels = 0\n",
    "    dice_score = 0\n",
    "    num_mask = 0\n",
    "    num_mask_detected = 0\n",
    "    num_detected = 0\n",
    "    sum_distance = 0\n",
    "\n",
    "    model.eval()\n",
    "    with torch.no_grad():\n",
    "        for x,y,c in loader:\n",
    "            x = x.to(DEVICE)\n",
    "            y = y.to(DEVICE)\n",
    "            output = torch.sigmoid(model(x))\n",
    "            preds = (output > 0.5).float()\n",
    "            num_correct += (preds == y).sum()\n",
    "            num_pixels += torch.numel(preds)\n",
    "            dice_score += (2*(preds * y).sum() / ((preds+y).sum() + 1e-8)) # work only for binary\n",
    "\n",
    "            # proportion of the mask detected\n",
    "            num_mask += y.sum()\n",
    "            num_mask_detected += preds[y==1.0].sum()\n",
    "            num_detected += preds.sum()\n",
    "\n",
    "            # distance between predicted coordinates and labelled coordinates\n",
    "            output = output.detach().cpu().numpy()\n",
    "            pred_coords = cDetector.detect(output)\n",
    "\n",
    "            sum_distance+= np.nanmean(np.sqrt(((pred_coords[:,:,0:2] - c.numpy())**2).sum(axis=2)))\n",
    "            # we acutally do a mean of the error for the different objects in a batch\n",
    "\n",
    "\n",
    "    print(f\"Accuracy: {num_correct/num_pixels*100:.2f}\")\n",
    "    print(f\"Dice score: {dice_score/len(loader):.2f}\")\n",
    "    print(f\"Mask pixels detected: {num_mask_detected/num_mask*100:.2f}%\")\n",
    "    print(f\"False positives: {(num_detected-num_mask_detected)/num_detected*100:.2f}%\")\n",
    "    print(f\"Mean distance: {sum_distance/len(loader)}\")\n",
    "    a = model.train()\n",
    "\n",
    "cDetector = CoordinatesFromSegmentationMask()"
   ]
  },
  {
   "cell_type": "markdown",
   "id": "44b011fe-fd1f-45d4-9c20-cfe078631b01",
   "metadata": {},
   "source": [
    "## Training loop"
   ]
  },
  {
   "cell_type": "code",
   "execution_count": 11,
   "id": "438e23e0-a918-4aa4-82a3-04d71cfbf1dd",
   "metadata": {},
   "outputs": [],
   "source": [
    "def train_fn(loader,model,optimizer,loss_fn,scaler,epoch,total_epochs):\n",
    "    \"\"\"\n",
    "    One epoch of training\n",
    "    \"\"\"\n",
    "    loop = tqdm(loader)\n",
    "    for batch_idx, (data,targets,_) in enumerate(loop):\n",
    "        data = data.to(device=DEVICE)\n",
    "        targets = targets.to(device=DEVICE)\n",
    "        \n",
    "        # forward\n",
    "        with torch.cuda.amp.autocast():\n",
    "            predictions = model(data)\n",
    "            loss = loss_fn(predictions,targets)\n",
    "            \n",
    "        \n",
    "        # backward\n",
    "        optimizer.zero_grad()\n",
    "        scaler.scale(loss).backward()\n",
    "        scaler.step(optimizer)\n",
    "        scaler.update()\n",
    "        \n",
    "        # update tqdm loop\n",
    "        loop.set_postfix_str(\"loss: {:.7f}, epoch: {:d}/{:d}\".format(loss.item(),epoch,total_epochs))\n"
   ]
  },
  {
   "cell_type": "code",
   "execution_count": 12,
   "id": "b03760e0-5a98-4d58-be63-d4e98dc3c5fb",
   "metadata": {},
   "outputs": [
    {
     "name": "stdout",
     "output_type": "stream",
     "text": [
      "Starting time: 2022-11-28 14:09:07.777234\n"
     ]
    },
    {
     "name": "stderr",
     "output_type": "stream",
     "text": [
      "100%|█████████████████████████████████████████████████████████████| 45/45 [00:04<00:00, 10.09it/s, loss: 0.0021955, epoch: 0/100]\n",
      "/tmp/ipykernel_23329/3816110341.py:31: RuntimeWarning: Mean of empty slice\n",
      "  sum_distance+= np.nanmean(np.sqrt(((pred_coords[:,:,0:2] - c.numpy())**2).sum(axis=2)))\n"
     ]
    },
    {
     "name": "stdout",
     "output_type": "stream",
     "text": [
      "Accuracy: 99.97\n",
      "Dice score: 0.00\n",
      "Mask pixels detected: 0.00%\n",
      "False positives: nan%\n",
      "Mean distance: nan\n"
     ]
    },
    {
     "name": "stderr",
     "output_type": "stream",
     "text": [
      "100%|█████████████████████████████████████████████████████████████| 45/45 [00:03<00:00, 12.14it/s, loss: 0.0139602, epoch: 1/100]\n",
      "100%|█████████████████████████████████████████████████████████████| 45/45 [00:03<00:00, 12.32it/s, loss: 0.0130652, epoch: 2/100]\n",
      "100%|█████████████████████████████████████████████████████████████| 45/45 [00:03<00:00, 12.25it/s, loss: 0.0107524, epoch: 3/100]\n",
      "100%|█████████████████████████████████████████████████████████████| 45/45 [00:03<00:00, 12.25it/s, loss: 0.0099963, epoch: 4/100]\n",
      "100%|█████████████████████████████████████████████████████████████| 45/45 [00:03<00:00, 12.28it/s, loss: 0.0087771, epoch: 5/100]\n"
     ]
    },
    {
     "name": "stdout",
     "output_type": "stream",
     "text": [
      "Accuracy: 99.97\n",
      "Dice score: 0.00\n",
      "Mask pixels detected: 0.00%\n",
      "False positives: nan%\n",
      "Mean distance: nan\n"
     ]
    },
    {
     "name": "stderr",
     "output_type": "stream",
     "text": [
      "100%|█████████████████████████████████████████████████████████████| 45/45 [00:03<00:00, 12.25it/s, loss: 0.0079302, epoch: 6/100]\n",
      "100%|█████████████████████████████████████████████████████████████| 45/45 [00:03<00:00, 12.25it/s, loss: 0.0074346, epoch: 7/100]\n",
      "100%|█████████████████████████████████████████████████████████████| 45/45 [00:03<00:00, 12.22it/s, loss: 0.0063855, epoch: 8/100]\n",
      "100%|█████████████████████████████████████████████████████████████| 45/45 [00:03<00:00, 12.22it/s, loss: 0.0057823, epoch: 9/100]\n",
      "100%|████████████████████████████████████████████████████████████| 45/45 [00:03<00:00, 12.27it/s, loss: 0.0058336, epoch: 10/100]\n"
     ]
    },
    {
     "name": "stdout",
     "output_type": "stream",
     "text": [
      "Accuracy: 99.97\n",
      "Dice score: 0.00\n",
      "Mask pixels detected: 0.00%\n",
      "False positives: nan%\n",
      "Mean distance: nan\n"
     ]
    },
    {
     "name": "stderr",
     "output_type": "stream",
     "text": [
      "100%|████████████████████████████████████████████████████████████| 45/45 [00:03<00:00, 12.19it/s, loss: 0.0054641, epoch: 11/100]\n",
      "100%|████████████████████████████████████████████████████████████| 45/45 [00:03<00:00, 12.22it/s, loss: 0.0047723, epoch: 12/100]\n",
      "100%|████████████████████████████████████████████████████████████| 45/45 [00:03<00:00, 12.25it/s, loss: 0.0046418, epoch: 13/100]\n",
      "100%|████████████████████████████████████████████████████████████| 45/45 [00:03<00:00, 12.16it/s, loss: 0.0044748, epoch: 14/100]\n",
      "100%|████████████████████████████████████████████████████████████| 45/45 [00:03<00:00, 12.19it/s, loss: 0.0044463, epoch: 15/100]\n"
     ]
    },
    {
     "name": "stdout",
     "output_type": "stream",
     "text": [
      "Accuracy: 99.97\n",
      "Dice score: 0.00\n",
      "Mask pixels detected: 0.00%\n",
      "False positives: nan%\n",
      "Mean distance: nan\n"
     ]
    },
    {
     "name": "stderr",
     "output_type": "stream",
     "text": [
      "100%|████████████████████████████████████████████████████████████| 45/45 [00:03<00:00, 12.19it/s, loss: 0.0042563, epoch: 16/100]\n",
      "100%|████████████████████████████████████████████████████████████| 45/45 [00:03<00:00, 12.18it/s, loss: 0.0033528, epoch: 17/100]\n",
      "100%|████████████████████████████████████████████████████████████| 45/45 [00:03<00:00, 12.16it/s, loss: 0.0038973, epoch: 18/100]\n",
      "100%|████████████████████████████████████████████████████████████| 45/45 [00:03<00:00, 12.19it/s, loss: 0.0030309, epoch: 19/100]\n",
      "100%|████████████████████████████████████████████████████████████| 45/45 [00:03<00:00, 12.19it/s, loss: 0.0030871, epoch: 20/100]\n"
     ]
    },
    {
     "name": "stdout",
     "output_type": "stream",
     "text": [
      "Accuracy: 99.97\n",
      "Dice score: 0.00\n",
      "Mask pixels detected: 0.00%\n",
      "False positives: nan%\n",
      "Mean distance: nan\n"
     ]
    },
    {
     "name": "stderr",
     "output_type": "stream",
     "text": [
      "100%|████████████████████████████████████████████████████████████| 45/45 [00:03<00:00, 12.16it/s, loss: 0.0033047, epoch: 21/100]\n",
      "100%|████████████████████████████████████████████████████████████| 45/45 [00:03<00:00, 12.17it/s, loss: 0.0028439, epoch: 22/100]\n",
      "100%|████████████████████████████████████████████████████████████| 45/45 [00:03<00:00, 12.23it/s, loss: 0.0024109, epoch: 23/100]\n",
      "100%|████████████████████████████████████████████████████████████| 45/45 [00:03<00:00, 12.22it/s, loss: 0.0024307, epoch: 24/100]\n",
      "100%|████████████████████████████████████████████████████████████| 45/45 [00:03<00:00, 12.19it/s, loss: 0.0023362, epoch: 25/100]\n"
     ]
    },
    {
     "name": "stdout",
     "output_type": "stream",
     "text": [
      "Accuracy: 99.97\n",
      "Dice score: 0.00\n",
      "Mask pixels detected: 0.00%\n",
      "False positives: nan%\n",
      "Mean distance: nan\n"
     ]
    },
    {
     "name": "stderr",
     "output_type": "stream",
     "text": [
      "100%|████████████████████████████████████████████████████████████| 45/45 [00:03<00:00, 12.17it/s, loss: 0.0030968, epoch: 26/100]\n",
      "100%|████████████████████████████████████████████████████████████| 45/45 [00:03<00:00, 12.14it/s, loss: 0.0022257, epoch: 27/100]\n",
      "100%|████████████████████████████████████████████████████████████| 45/45 [00:03<00:00, 12.15it/s, loss: 0.0031490, epoch: 28/100]\n",
      "100%|████████████████████████████████████████████████████████████| 45/45 [00:03<00:00, 12.10it/s, loss: 0.0028452, epoch: 29/100]\n",
      "100%|████████████████████████████████████████████████████████████| 45/45 [00:03<00:00, 12.14it/s, loss: 0.0027731, epoch: 30/100]\n"
     ]
    },
    {
     "name": "stdout",
     "output_type": "stream",
     "text": [
      "Accuracy: 99.97\n",
      "Dice score: 0.00\n",
      "Mask pixels detected: 0.00%\n",
      "False positives: nan%\n",
      "Mean distance: nan\n"
     ]
    },
    {
     "name": "stderr",
     "output_type": "stream",
     "text": [
      "100%|████████████████████████████████████████████████████████████| 45/45 [00:03<00:00, 12.14it/s, loss: 0.0020245, epoch: 31/100]\n",
      "100%|████████████████████████████████████████████████████████████| 45/45 [00:03<00:00, 12.15it/s, loss: 0.0028789, epoch: 32/100]\n",
      "100%|████████████████████████████████████████████████████████████| 45/45 [00:03<00:00, 12.12it/s, loss: 0.0018759, epoch: 33/100]\n",
      "100%|████████████████████████████████████████████████████████████| 45/45 [00:03<00:00, 12.16it/s, loss: 0.0017994, epoch: 34/100]\n",
      "100%|████████████████████████████████████████████████████████████| 45/45 [00:03<00:00, 12.05it/s, loss: 0.0018319, epoch: 35/100]\n"
     ]
    },
    {
     "name": "stdout",
     "output_type": "stream",
     "text": [
      "Accuracy: 99.97\n",
      "Dice score: 0.00\n",
      "Mask pixels detected: 0.00%\n",
      "False positives: nan%\n",
      "Mean distance: nan\n"
     ]
    },
    {
     "name": "stderr",
     "output_type": "stream",
     "text": [
      "100%|████████████████████████████████████████████████████████████| 45/45 [00:03<00:00, 12.14it/s, loss: 0.0033823, epoch: 36/100]\n",
      "100%|████████████████████████████████████████████████████████████| 45/45 [00:03<00:00, 12.11it/s, loss: 0.0024474, epoch: 37/100]\n",
      "100%|████████████████████████████████████████████████████████████| 45/45 [00:03<00:00, 12.11it/s, loss: 0.0024382, epoch: 38/100]\n",
      "100%|████████████████████████████████████████████████████████████| 45/45 [00:03<00:00, 12.11it/s, loss: 0.0016527, epoch: 39/100]\n",
      "100%|████████████████████████████████████████████████████████████| 45/45 [00:03<00:00, 12.13it/s, loss: 0.0016023, epoch: 40/100]\n"
     ]
    },
    {
     "name": "stdout",
     "output_type": "stream",
     "text": [
      "Accuracy: 99.97\n",
      "Dice score: 0.00\n",
      "Mask pixels detected: 0.00%\n",
      "False positives: nan%\n",
      "Mean distance: nan\n"
     ]
    },
    {
     "name": "stderr",
     "output_type": "stream",
     "text": [
      "100%|████████████████████████████████████████████████████████████| 45/45 [00:03<00:00, 12.12it/s, loss: 0.0022557, epoch: 41/100]\n",
      "100%|████████████████████████████████████████████████████████████| 45/45 [00:03<00:00, 12.14it/s, loss: 0.0025602, epoch: 42/100]\n",
      "100%|████████████████████████████████████████████████████████████| 45/45 [00:03<00:00, 12.10it/s, loss: 0.0013953, epoch: 43/100]\n",
      "100%|████████████████████████████████████████████████████████████| 45/45 [00:03<00:00, 12.10it/s, loss: 0.0022530, epoch: 44/100]\n",
      "100%|████████████████████████████████████████████████████████████| 45/45 [00:03<00:00, 12.10it/s, loss: 0.0014006, epoch: 45/100]\n"
     ]
    },
    {
     "name": "stdout",
     "output_type": "stream",
     "text": [
      "Accuracy: 99.97\n",
      "Dice score: 0.00\n",
      "Mask pixels detected: 0.00%\n",
      "False positives: 100.00%\n",
      "Mean distance: nan\n"
     ]
    },
    {
     "name": "stderr",
     "output_type": "stream",
     "text": [
      "100%|████████████████████████████████████████████████████████████| 45/45 [00:03<00:00, 12.07it/s, loss: 0.0030724, epoch: 46/100]\n",
      "100%|████████████████████████████████████████████████████████████| 45/45 [00:03<00:00, 12.08it/s, loss: 0.0012143, epoch: 47/100]\n",
      "100%|████████████████████████████████████████████████████████████| 45/45 [00:03<00:00, 12.12it/s, loss: 0.0012209, epoch: 48/100]\n",
      "100%|████████████████████████████████████████████████████████████| 45/45 [00:03<00:00, 12.11it/s, loss: 0.0011369, epoch: 49/100]\n",
      "100%|████████████████████████████████████████████████████████████| 45/45 [00:03<00:00, 12.09it/s, loss: 0.0009273, epoch: 50/100]\n"
     ]
    },
    {
     "name": "stdout",
     "output_type": "stream",
     "text": [
      "Accuracy: 99.97\n",
      "Dice score: 0.34\n",
      "Mask pixels detected: 23.08%\n",
      "False positives: 35.13%\n",
      "Mean distance: 5.027827131816442\n"
     ]
    },
    {
     "name": "stderr",
     "output_type": "stream",
     "text": [
      "100%|████████████████████████████████████████████████████████████| 45/45 [00:03<00:00, 12.05it/s, loss: 0.0012008, epoch: 51/100]\n",
      "100%|████████████████████████████████████████████████████████████| 45/45 [00:03<00:00, 12.09it/s, loss: 0.0021673, epoch: 52/100]\n",
      "100%|████████████████████████████████████████████████████████████| 45/45 [00:03<00:00, 12.06it/s, loss: 0.0021557, epoch: 53/100]\n",
      "100%|████████████████████████████████████████████████████████████| 45/45 [00:03<00:00, 12.05it/s, loss: 0.0009029, epoch: 54/100]\n",
      "100%|████████████████████████████████████████████████████████████| 45/45 [00:03<00:00, 12.10it/s, loss: 0.0011248, epoch: 55/100]\n"
     ]
    },
    {
     "name": "stdout",
     "output_type": "stream",
     "text": [
      "Accuracy: 99.97\n",
      "Dice score: 0.27\n",
      "Mask pixels detected: 18.41%\n",
      "False positives: 48.16%\n",
      "Mean distance: 10.709700359910489\n"
     ]
    },
    {
     "name": "stderr",
     "output_type": "stream",
     "text": [
      "100%|████████████████████████████████████████████████████████████| 45/45 [00:03<00:00, 12.10it/s, loss: 0.0009572, epoch: 56/100]\n",
      "100%|████████████████████████████████████████████████████████████| 45/45 [00:03<00:00, 12.09it/s, loss: 0.0020582, epoch: 57/100]\n",
      "100%|████████████████████████████████████████████████████████████| 45/45 [00:03<00:00, 12.06it/s, loss: 0.0031722, epoch: 58/100]\n",
      "100%|████████████████████████████████████████████████████████████| 45/45 [00:03<00:00, 12.11it/s, loss: 0.0008514, epoch: 59/100]\n",
      "100%|████████████████████████████████████████████████████████████| 45/45 [00:03<00:00, 12.11it/s, loss: 0.0019081, epoch: 60/100]\n"
     ]
    },
    {
     "name": "stdout",
     "output_type": "stream",
     "text": [
      "Accuracy: 99.97\n",
      "Dice score: 0.29\n",
      "Mask pixels detected: 19.60%\n",
      "False positives: 32.04%\n",
      "Mean distance: nan\n"
     ]
    },
    {
     "name": "stderr",
     "output_type": "stream",
     "text": [
      "100%|████████████████████████████████████████████████████████████| 45/45 [00:03<00:00, 12.03it/s, loss: 0.0007775, epoch: 61/100]\n",
      "100%|████████████████████████████████████████████████████████████| 45/45 [00:03<00:00, 12.09it/s, loss: 0.0009596, epoch: 62/100]\n",
      "100%|████████████████████████████████████████████████████████████| 45/45 [00:03<00:00, 12.07it/s, loss: 0.0018513, epoch: 63/100]\n",
      "100%|████████████████████████████████████████████████████████████| 45/45 [00:03<00:00, 12.09it/s, loss: 0.0006991, epoch: 64/100]\n",
      "100%|████████████████████████████████████████████████████████████| 45/45 [00:03<00:00, 12.11it/s, loss: 0.0010995, epoch: 65/100]\n"
     ]
    },
    {
     "name": "stdout",
     "output_type": "stream",
     "text": [
      "Accuracy: 99.98\n",
      "Dice score: 0.47\n",
      "Mask pixels detected: 35.07%\n",
      "False positives: 22.19%\n",
      "Mean distance: nan\n"
     ]
    },
    {
     "name": "stderr",
     "output_type": "stream",
     "text": [
      "100%|████████████████████████████████████████████████████████████| 45/45 [00:03<00:00, 12.12it/s, loss: 0.0006771, epoch: 66/100]\n",
      "100%|████████████████████████████████████████████████████████████| 45/45 [00:03<00:00, 12.04it/s, loss: 0.0007885, epoch: 67/100]\n",
      "100%|████████████████████████████████████████████████████████████| 45/45 [00:03<00:00, 12.12it/s, loss: 0.0018132, epoch: 68/100]\n",
      "100%|████████████████████████████████████████████████████████████| 45/45 [00:03<00:00, 12.02it/s, loss: 0.0006682, epoch: 69/100]\n",
      "100%|████████████████████████████████████████████████████████████| 45/45 [00:03<00:00, 12.06it/s, loss: 0.0005381, epoch: 70/100]\n"
     ]
    },
    {
     "name": "stdout",
     "output_type": "stream",
     "text": [
      "Accuracy: 99.98\n",
      "Dice score: 0.64\n",
      "Mask pixels detected: 56.38%\n",
      "False positives: 23.76%\n",
      "Mean distance: 2.799823576174851\n"
     ]
    },
    {
     "name": "stderr",
     "output_type": "stream",
     "text": [
      "100%|████████████████████████████████████████████████████████████| 45/45 [00:03<00:00, 12.09it/s, loss: 0.0006826, epoch: 71/100]\n",
      "100%|████████████████████████████████████████████████████████████| 45/45 [00:03<00:00, 12.11it/s, loss: 0.0017711, epoch: 72/100]\n",
      "100%|████████████████████████████████████████████████████████████| 45/45 [00:03<00:00, 12.08it/s, loss: 0.0004725, epoch: 73/100]\n",
      "100%|████████████████████████████████████████████████████████████| 45/45 [00:03<00:00, 12.06it/s, loss: 0.0020900, epoch: 74/100]\n",
      "100%|████████████████████████████████████████████████████████████| 45/45 [00:03<00:00, 12.10it/s, loss: 0.0005830, epoch: 75/100]\n"
     ]
    },
    {
     "name": "stdout",
     "output_type": "stream",
     "text": [
      "Accuracy: 99.98\n",
      "Dice score: 0.49\n",
      "Mask pixels detected: 40.04%\n",
      "False positives: 28.57%\n",
      "Mean distance: nan\n"
     ]
    },
    {
     "name": "stderr",
     "output_type": "stream",
     "text": [
      "100%|████████████████████████████████████████████████████████████| 45/45 [00:03<00:00, 12.06it/s, loss: 0.0019553, epoch: 76/100]\n",
      "100%|████████████████████████████████████████████████████████████| 45/45 [00:03<00:00, 12.12it/s, loss: 0.0004821, epoch: 77/100]\n",
      "100%|████████████████████████████████████████████████████████████| 45/45 [00:03<00:00, 12.07it/s, loss: 0.0004530, epoch: 78/100]\n",
      "100%|████████████████████████████████████████████████████████████| 45/45 [00:03<00:00, 12.09it/s, loss: 0.0004624, epoch: 79/100]\n",
      "100%|████████████████████████████████████████████████████████████| 45/45 [00:03<00:00, 12.10it/s, loss: 0.0004088, epoch: 80/100]\n"
     ]
    },
    {
     "name": "stdout",
     "output_type": "stream",
     "text": [
      "Accuracy: 99.98\n",
      "Dice score: 0.54\n",
      "Mask pixels detected: 43.73%\n",
      "False positives: 20.64%\n",
      "Mean distance: 1.6817208583260412\n"
     ]
    },
    {
     "name": "stderr",
     "output_type": "stream",
     "text": [
      "100%|████████████████████████████████████████████████████████████| 45/45 [00:03<00:00, 12.15it/s, loss: 0.0005158, epoch: 81/100]\n",
      "100%|████████████████████████████████████████████████████████████| 45/45 [00:03<00:00, 12.06it/s, loss: 0.0004062, epoch: 82/100]\n",
      "100%|████████████████████████████████████████████████████████████| 45/45 [00:03<00:00, 12.12it/s, loss: 0.0003748, epoch: 83/100]\n",
      "100%|████████████████████████████████████████████████████████████| 45/45 [00:03<00:00, 12.11it/s, loss: 0.0004094, epoch: 84/100]\n",
      "100%|████████████████████████████████████████████████████████████| 45/45 [00:03<00:00, 12.09it/s, loss: 0.0003444, epoch: 85/100]\n"
     ]
    },
    {
     "name": "stdout",
     "output_type": "stream",
     "text": [
      "Accuracy: 99.98\n",
      "Dice score: 0.64\n",
      "Mask pixels detected: 55.29%\n",
      "False positives: 22.26%\n",
      "Mean distance: 1.6809104360598646\n"
     ]
    },
    {
     "name": "stderr",
     "output_type": "stream",
     "text": [
      "100%|████████████████████████████████████████████████████████████| 45/45 [00:03<00:00, 12.12it/s, loss: 0.0003705, epoch: 86/100]\n",
      "100%|████████████████████████████████████████████████████████████| 45/45 [00:03<00:00, 12.07it/s, loss: 0.0003567, epoch: 87/100]\n",
      "100%|████████████████████████████████████████████████████████████| 45/45 [00:03<00:00, 12.08it/s, loss: 0.0017522, epoch: 88/100]\n",
      "100%|████████████████████████████████████████████████████████████| 45/45 [00:03<00:00, 12.06it/s, loss: 0.0005366, epoch: 89/100]\n",
      "100%|████████████████████████████████████████████████████████████| 45/45 [00:03<00:00, 12.04it/s, loss: 0.0004124, epoch: 90/100]\n"
     ]
    },
    {
     "name": "stdout",
     "output_type": "stream",
     "text": [
      "Accuracy: 99.98\n",
      "Dice score: 0.59\n",
      "Mask pixels detected: 49.02%\n",
      "False positives: 18.44%\n",
      "Mean distance: 1.5804884707564841\n"
     ]
    },
    {
     "name": "stderr",
     "output_type": "stream",
     "text": [
      "100%|████████████████████████████████████████████████████████████| 45/45 [00:03<00:00, 12.05it/s, loss: 0.0005275, epoch: 91/100]\n",
      "100%|████████████████████████████████████████████████████████████| 45/45 [00:03<00:00, 12.12it/s, loss: 0.0005286, epoch: 92/100]\n",
      "100%|████████████████████████████████████████████████████████████| 45/45 [00:03<00:00, 12.05it/s, loss: 0.0018462, epoch: 93/100]\n",
      "100%|████████████████████████████████████████████████████████████| 45/45 [00:03<00:00, 12.04it/s, loss: 0.0007207, epoch: 94/100]\n",
      "100%|████████████████████████████████████████████████████████████| 45/45 [00:03<00:00, 12.04it/s, loss: 0.0002856, epoch: 95/100]\n"
     ]
    },
    {
     "name": "stdout",
     "output_type": "stream",
     "text": [
      "Accuracy: 99.98\n",
      "Dice score: 0.65\n",
      "Mask pixels detected: 58.77%\n",
      "False positives: 24.49%\n",
      "Mean distance: nan\n"
     ]
    },
    {
     "name": "stderr",
     "output_type": "stream",
     "text": [
      "100%|████████████████████████████████████████████████████████████| 45/45 [00:03<00:00, 12.10it/s, loss: 0.0021716, epoch: 96/100]\n",
      "100%|████████████████████████████████████████████████████████████| 45/45 [00:03<00:00, 12.08it/s, loss: 0.0004104, epoch: 97/100]\n",
      "100%|████████████████████████████████████████████████████████████| 45/45 [00:03<00:00, 12.10it/s, loss: 0.0004245, epoch: 98/100]\n",
      "100%|████████████████████████████████████████████████████████████| 45/45 [00:03<00:00, 12.05it/s, loss: 0.0018131, epoch: 99/100]"
     ]
    },
    {
     "name": "stdout",
     "output_type": "stream",
     "text": [
      "End time: 2022-11-28 14:15:35.579600\n",
      "100 epochs, duration: 0:06:27.802366\n"
     ]
    },
    {
     "name": "stderr",
     "output_type": "stream",
     "text": [
      "\n"
     ]
    }
   ],
   "source": [
    "startTime = datetime.now()\n",
    "print(\"Starting time:\",startTime)\n",
    "for epoch in range(NUM_EPOCHS):\n",
    "    \n",
    "    train_fn(trainLoader,model,optimizer,loss_fn,scaler,epoch,NUM_EPOCHS)\n",
    "    \n",
    "    if epoch % 5 == 0 :\n",
    "        # save model\n",
    "        checkpoint = {\n",
    "            \"state_dict\": model.state_dict(),\n",
    "            \"optimizer\": optimizer.state_dict()}\n",
    "        save_checkpoint(checkpoint,filename=os.path.join(project.models_dir,\"my_checkpoint.pth.tar\"))\n",
    "\n",
    "        # check accuracy\n",
    "        check_accuracy(model,valLoader,DEVICE)\n",
    "\n",
    "endTime=datetime.now()\n",
    "print(\"End time:\",endTime)\n",
    "print(\"{} epochs, duration:\".format(NUM_EPOCHS), endTime-startTime)"
   ]
  },
  {
   "cell_type": "code",
   "execution_count": 14,
   "id": "dcc7e64d-8b80-42e3-ad71-cea889a30e2b",
   "metadata": {},
   "outputs": [
    {
     "name": "stdout",
     "output_type": "stream",
     "text": [
      "saving model state dict to /home/kevin/Documents/trackingProjects/mouseTrack/models/UNet.pt\n",
      "2022-11-28 14:15:40.328809\n"
     ]
    }
   ],
   "source": [
    "project.save_model(model)"
   ]
  },
  {
   "cell_type": "code",
   "execution_count": null,
   "id": "1c5d4be8-a5c4-4d45-b236-5ce0bdb8033c",
   "metadata": {},
   "outputs": [],
   "source": []
  }
 ],
 "metadata": {
  "kernelspec": {
   "display_name": "Python 3 (ipykernel)",
   "language": "python",
   "name": "python3"
  },
  "language_info": {
   "codemirror_mode": {
    "name": "ipython",
    "version": 3
   },
   "file_extension": ".py",
   "mimetype": "text/x-python",
   "name": "python",
   "nbconvert_exporter": "python",
   "pygments_lexer": "ipython3",
   "version": "3.8.10"
  }
 },
 "nbformat": 4,
 "nbformat_minor": 5
}
