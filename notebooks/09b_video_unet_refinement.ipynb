{
 "cells": [
  {
   "cell_type": "markdown",
   "id": "d5593660-09d9-4f9d-a905-22b5e4cbd401",
   "metadata": {},
   "source": [
    "# U-Net live on a video\n",
    "\n",
    "We want to see the output of our model on live images from a video."
   ]
  },
  {
   "cell_type": "code",
   "execution_count": 1,
   "id": "1d00397f-b7df-48fb-a7f2-70bd90cd4600",
   "metadata": {},
   "outputs": [],
   "source": [
    "import torch\n",
    "\n",
    "from unetTracker.trackingProject import TrackingProject\n",
    "from unetTracker.dataset import UNetDataset\n",
    "from unetTracker.unet import Unet\n",
    "from unetTracker.unetGUI import LabelFromVideoGUI"
   ]
  },
  {
   "cell_type": "code",
   "execution_count": 2,
   "id": "ce322c9d-db70-45fe-9c80-c1447c7740a8",
   "metadata": {},
   "outputs": [
    {
     "name": "stdout",
     "output_type": "stream",
     "text": [
      "Project directory: /home/kevin/Documents/trackingProjects/faceTrack\n",
      "Loading /home/kevin/Documents/trackingProjects/faceTrack/config.yalm\n",
      "{'augmentation_HorizontalFlipProb': 0.0, 'augmentation_RandomBrightnessContrastProb': 0.2, 'augmentation_RandomSizedCropProb': 1.0, 'augmentation_RotateProb': 0.3, 'image_size': [480, 640], 'labeling_ImageEnlargeFactor': 2.0, 'name': 'faceTrack', 'normalization_values': {'means': [0.5110162496566772, 0.4608974754810333, 0.4772901237010956], 'stds': [0.2727729380130768, 0.2578601539134979, 0.256255567073822]}, 'object_colors': [(0.0, 0.0, 255.0), (255.0, 0.0, 0.0), (255.0, 255.0, 0.0), (128.0, 0.0, 128.0)], 'objects': ['nose', 'chin', 'rEye', 'lEye'], 'target_radius': 10}\n"
     ]
    }
   ],
   "source": [
    "project = TrackingProject(name=\"faceTrack\",root_folder = \"/home/kevin/Documents/trackingProjects/\")\n",
    "dataset = UNetDataset(image_dir=project.image_dir, mask_dir=project.mask_dir, coordinate_dir=project.coordinate_dir)"
   ]
  },
  {
   "cell_type": "code",
   "execution_count": 3,
   "id": "7f80c555-d884-46c6-a2f9-4ff605b01287",
   "metadata": {},
   "outputs": [
    {
     "data": {
      "text/plain": [
       "640"
      ]
     },
     "execution_count": 3,
     "metadata": {},
     "output_type": "execute_result"
    }
   ],
   "source": [
    "len(dataset)"
   ]
  },
  {
   "cell_type": "code",
   "execution_count": 4,
   "id": "13bd342f-0682-4ee4-8e40-71b51226fa7c",
   "metadata": {},
   "outputs": [
    {
     "name": "stdout",
     "output_type": "stream",
     "text": [
      "Training on device cuda\n"
     ]
    }
   ],
   "source": [
    "device = (torch.device(\"cuda\") if torch.cuda.is_available() else torch.device(\"cpu\"))\n",
    "print(\"Training on device {}\".format(device))"
   ]
  },
  {
   "cell_type": "code",
   "execution_count": 5,
   "id": "a7054d7c-9fa4-438e-935d-1c79b9dee485",
   "metadata": {},
   "outputs": [
    {
     "data": {
      "text/plain": [
       "<All keys matched successfully>"
      ]
     },
     "execution_count": 5,
     "metadata": {},
     "output_type": "execute_result"
    }
   ],
   "source": [
    "model = Unet(in_channels=3,out_channels=len(project.object_list)).to(device)\n",
    "fn=project.model_fn\n",
    "model.load_state_dict(torch.load(fn,map_location=device))"
   ]
  },
  {
   "cell_type": "markdown",
   "id": "4f0b2a50-1590-4527-9473-9a6e356d840b",
   "metadata": {},
   "source": [
    "Make sure you stop the play back of the video before re-running the cell below."
   ]
  },
  {
   "cell_type": "code",
   "execution_count": 11,
   "id": "84d5bd4b-c98b-4465-837a-0023de8b6d05",
   "metadata": {},
   "outputs": [
    {
     "data": {
      "application/vnd.jupyter.widget-view+json": {
       "model_id": "77f26a6d51734f41a2b60b528dfed76e",
       "version_major": 2,
       "version_minor": 0
      },
      "text/plain": [
       "VBox(children=(HBox(children=(Image(value=b'', format='jpeg', height='240.0', width='320.0'), Image(value=b'',…"
      ]
     },
     "metadata": {},
     "output_type": "display_data"
    },
    {
     "data": {
      "text/plain": [
       "<__main__.LabelFromVideoGUI at 0x7fe374c21dc0>"
      ]
     },
     "execution_count": 11,
     "metadata": {},
     "output_type": "execute_result"
    }
   ],
   "source": [
    "video_fn = '/tmp/video1.avi'\n",
    "gui = LabelFromVideoGUI(video_fn,project,dataset,model=model,device=device)\n",
    "gui"
   ]
  }
 ],
 "metadata": {
  "kernelspec": {
   "display_name": "Python 3 (ipykernel)",
   "language": "python",
   "name": "python3"
  },
  "language_info": {
   "codemirror_mode": {
    "name": "ipython",
    "version": 3
   },
   "file_extension": ".py",
   "mimetype": "text/x-python",
   "name": "python",
   "nbconvert_exporter": "python",
   "pygments_lexer": "ipython3",
   "version": "3.8.10"
  }
 },
 "nbformat": 4,
 "nbformat_minor": 5
}
