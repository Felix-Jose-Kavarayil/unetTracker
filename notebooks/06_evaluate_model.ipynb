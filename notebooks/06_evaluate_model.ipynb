{
 "cells": [
  {
   "cell_type": "markdown",
   "id": "f149a34b-dbce-499f-9629-6ea8b9abfae4",
   "metadata": {},
   "source": [
    "# Model evaluation\n",
    "\n",
    "The model performs image segmentation and output an image for each object tracked. The higher the value in the image, the more likely that the object was there. "
   ]
  },
  {
   "cell_type": "code",
   "execution_count": 1,
   "id": "832d0a5c-6ca0-4723-8c6d-9a46c6de387f",
   "metadata": {},
   "outputs": [],
   "source": [
    "import torch\n",
    "from torch.utils.data import DataLoader\n",
    "import numpy as np\n",
    "import matplotlib.pyplot as plt\n",
    "import os\n",
    "from tqdm import tqdm\n",
    "from torch import optim\n",
    "from datetime import datetime\n",
    "import albumentations as A\n",
    "import cv2\n",
    "\n",
    "from unetTracker.trackingProject import TrackingProject\n",
    "from unetTracker.multiClassUNetDataset import MultiClassUNetDataset\n",
    "from unetTracker.unet import Unet"
   ]
  },
  {
   "cell_type": "code",
   "execution_count": 2,
   "id": "091fe10b-bcb6-4a82-9160-99e544b96753",
   "metadata": {},
   "outputs": [
    {
     "name": "stdout",
     "output_type": "stream",
     "text": [
      "Project directory: /home/kevin/Documents/trackingProjects/faceTrack\n",
      "Loading /home/kevin/Documents/trackingProjects/faceTrack/config.yalm\n",
      "{'augmentation_HorizontalFlipProb': 0.0, 'augmentation_RandomBrightnessContrastProb': 0.2, 'augmentation_RandomSizedCropProb': 1.0, 'augmentation_RotateProb': 0.3, 'image_size': [480, 640], 'labeling_ImageEnlargeFactor': 2.0, 'name': 'faceTrack', 'object_colors': [(0.0, 0.0, 255.0), (255.0, 0.0, 0.0), (255.0, 255.0, 0.0), (128.0, 0.0, 128.0)], 'objects': ['nose', 'chin', 'rEye', 'lEye'], 'target_radius': 10}\n"
     ]
    }
   ],
   "source": [
    "project = TrackingProject(name=\"faceTrack\",root_folder = \"/home/kevin/Documents/trackingProjects/\")"
   ]
  },
  {
   "cell_type": "code",
   "execution_count": 8,
   "id": "4a7f616a-9c25-41b0-898a-88a18abf384f",
   "metadata": {},
   "outputs": [],
   "source": [
    "TRAIN_IMG_DIR =\"/home/kevin/Documents/trackingProjects/faceTrack/dataset/train_images\"\n",
    "TRAIN_MASK_DIR =\"/home/kevin/Documents/trackingProjects/faceTrack/dataset/train_masks\" \n",
    "TRAIN_COORDINATES_DIR =\"/home/kevin/Documents/trackingProjects/faceTrack/dataset/train_coordinates\" \n",
    "VAL_IMG_DIR = \"/home/kevin/Documents/trackingProjects/faceTrack/dataset/val_images\"\n",
    "VAL_MASK_DIR =\"/home/kevin/Documents/trackingProjects/faceTrack/dataset/val_masks\"\n",
    "VAL_COORDINATES_DIR =\"/home/kevin/Documents/trackingProjects/faceTrack/dataset/val_coordinates\"\n",
    "DEVICE = (torch.device(\"cuda\") if torch.cuda.is_available() else torch.device(\"cpu\")) \n",
    "BATCH_SIZE=4\n",
    "NUM_WORKERS=2\n",
    "PIN_MEMORY=True"
   ]
  },
  {
   "cell_type": "code",
   "execution_count": 9,
   "id": "b1e9545d-17c0-4b47-bbeb-fd8fcc2c2a4c",
   "metadata": {},
   "outputs": [],
   "source": [
    "trainDataset = MultiClassUNetDataset(TRAIN_IMG_DIR, TRAIN_MASK_DIR,TRAIN_COORDINATES_DIR, transform=None)\n",
    "valDataset = MultiClassUNetDataset(VAL_IMG_DIR, VAL_MASK_DIR,VAL_COORDINATES_DIR, transform=None)\n",
    "trainLoader = DataLoader(trainDataset,shuffle=True,batch_size=BATCH_SIZE, num_workers=NUM_WORKERS,pin_memory=PIN_MEMORY)\n",
    "valLoader = DataLoader(valDataset,shuffle=False,batch_size=BATCH_SIZE, num_workers=NUM_WORKERS,pin_memory = PIN_MEMORY)"
   ]
  },
  {
   "cell_type": "code",
   "execution_count": 10,
   "id": "4302a628-9c38-428c-8bec-0a71758b0bd7",
   "metadata": {},
   "outputs": [],
   "source": [
    "BATCH_SIZE=2\n",
    "trainLoader = DataLoader(trainDataset,\n",
    "                          shuffle=True,\n",
    "                          batch_size=BATCH_SIZE,\n",
    "                          num_workers=4)\n",
    "valLoader = DataLoader(valDataset,\n",
    "                          shuffle=False,\n",
    "                          batch_size=BATCH_SIZE,\n",
    "                          num_workers=4)"
   ]
  },
  {
   "cell_type": "code",
   "execution_count": 13,
   "id": "8125100b-085a-467f-9a3c-5cc8b6d216e9",
   "metadata": {},
   "outputs": [],
   "source": [
    "model = Unet(in_channels=3, out_channels=len(project.object_list)).to(DEVICE)\n",
    "project.load_model(model)\n"
   ]
  },
  {
   "cell_type": "code",
   "execution_count": null,
   "id": "797bcf0f-781b-4e48-84a9-c351cc0147e0",
   "metadata": {},
   "outputs": [],
   "source": []
  }
 ],
 "metadata": {
  "kernelspec": {
   "display_name": "Python 3 (ipykernel)",
   "language": "python",
   "name": "python3"
  },
  "language_info": {
   "codemirror_mode": {
    "name": "ipython",
    "version": 3
   },
   "file_extension": ".py",
   "mimetype": "text/x-python",
   "name": "python",
   "nbconvert_exporter": "python",
   "pygments_lexer": "ipython3",
   "version": "3.8.10"
  }
 },
 "nbformat": 4,
 "nbformat_minor": 5
}
