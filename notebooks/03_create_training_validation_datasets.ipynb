{
 "cells": [
  {
   "cell_type": "markdown",
   "id": "351d8e96-edc0-4915-a775-15033608f54a",
   "metadata": {},
   "source": [
    "# Create training and validation sets\n",
    "\n",
    "The images and masks were saved in an `images` and `masks` directories. We need to create `train_images`, `train_masks`, `val_images` and `val_masks` directories.\n",
    "\n",
    "We will use the validation folders to estimate the accuracy of our model on data that it has not seen during training."
   ]
  },
  {
   "cell_type": "code",
   "execution_count": 2,
   "id": "4d5e32e2-d0e8-4504-9ef0-9ef6914b20ff",
   "metadata": {},
   "outputs": [],
   "source": [
    "from unetTracker.trackingProject import TrackingProject\n",
    "from unetTracker.multiClassUNetDataset import MultiClassUNetDataset"
   ]
  },
  {
   "cell_type": "code",
   "execution_count": 6,
   "id": "750b7128-d214-4a7a-9534-c36b5c69a15f",
   "metadata": {},
   "outputs": [
    {
     "name": "stdout",
     "output_type": "stream",
     "text": [
      "Project directory: /home/kevin/Documents/trackingProjects/faceTrack\n",
      "Loading /home/kevin/Documents/trackingProjects/faceTrack/config.yalm\n",
      "{'augmentation_HorizontalFlipProb': 0.0, 'augmentation_RandomBrightnessContrastProb': 0.2, 'augmentation_RandomSizedCropProb': 1.0, 'augmentation_RotateProb': 0.3, 'image_size': [480, 640], 'labeling_ImageEnlargeFactor': 2.0, 'name': 'faceTrack', 'object_colors': [(0.0, 0.0, 255.0), (255.0, 0.0, 0.0), (255.0, 255.0, 0.0), (128.0, 0.0, 128.0)], 'objects': ['nose', 'chin', 'rEye', 'lEye'], 'target_radius': 10}\n"
     ]
    }
   ],
   "source": [
    "project = TrackingProject(name=\"faceTrack\",root_folder = \"/home/kevin/Documents/trackingProjects/\")\n",
    "dataset = MultiClassUNetDataset(image_dir=project.image_dir, mask_dir=project.mask_dir, coordinates_dir=project.coordinates_dir)"
   ]
  },
  {
   "cell_type": "code",
   "execution_count": 7,
   "id": "89e21de7-209b-4673-a6a2-2272f98104ac",
   "metadata": {},
   "outputs": [
    {
     "name": "stdout",
     "output_type": "stream",
     "text": [
      "Length of training set: 391\n",
      "Length of validation set: 70\n",
      "Copying files to training and validation directories\n"
     ]
    }
   ],
   "source": [
    "dataset.create_training_validation_dataset(train_images_dir = \"/home/kevin/Documents/trackingProjects/faceTrack/dataset/train_images\",\n",
    "                                           train_masks_dir = \"/home/kevin/Documents/trackingProjects/faceTrack/dataset/train_masks\",\n",
    "                                           train_coordinates_dir = \"/home/kevin/Documents/trackingProjects/faceTrack/dataset/train_coordinates\",\n",
    "                                               \n",
    "                                           val_images_dir = \"/home/kevin/Documents/trackingProjects/faceTrack/dataset/val_images\",\n",
    "                                           val_masks_dir = \"/home/kevin/Documents/trackingProjects/faceTrack/dataset/val_masks\",\n",
    "                                           val_coordinates_dir = \"/home/kevin/Documents/trackingProjects/faceTrack/dataset/val_coordinates\",\n",
    "                                           test_size=0.15)"
   ]
  },
  {
   "cell_type": "code",
   "execution_count": 8,
   "id": "b49d0ff8-4131-4bdc-a469-93f6febc5dba",
   "metadata": {},
   "outputs": [
    {
     "data": {
      "text/plain": [
       "391"
      ]
     },
     "execution_count": 8,
     "metadata": {},
     "output_type": "execute_result"
    }
   ],
   "source": [
    "train_images_dir = \"/home/kevin/Documents/trackingProjects/faceTrack/dataset/train_images\"\n",
    "train_masks_dir = \"/home/kevin/Documents/trackingProjects/faceTrack/dataset/train_masks\"\n",
    "train_coordinates_dir = \"/home/kevin/Documents/trackingProjects/faceTrack/dataset/train_coordinates\"\n",
    "trainDataset = MultiClassUNetDataset(image_dir=train_images_dir, mask_dir=train_masks_dir,coordinates_dir=train_coordinates_dir)\n",
    "len(trainDataset)"
   ]
  },
  {
   "cell_type": "code",
   "execution_count": 9,
   "id": "51cfd723-e729-40bd-909b-405d9a4afd93",
   "metadata": {},
   "outputs": [
    {
     "data": {
      "text/plain": [
       "70"
      ]
     },
     "execution_count": 9,
     "metadata": {},
     "output_type": "execute_result"
    }
   ],
   "source": [
    "val_images_dir = \"/home/kevin/Documents/trackingProjects/faceTrack/dataset/val_images\"\n",
    "val_masks_dir = \"/home/kevin/Documents/trackingProjects/faceTrack/dataset/val_masks\"\n",
    "val_coordinates_dir = \"/home/kevin/Documents/trackingProjects/faceTrack/dataset/val_coordinates\"\n",
    "valDataset = MultiClassUNetDataset(image_dir=val_images_dir, mask_dir=val_masks_dir,coordinates_dir=val_coordinates_dir)\n",
    "len(valDataset)"
   ]
  },
  {
   "cell_type": "markdown",
   "id": "3c76dbda-a28f-4a5c-86ae-9073246003c3",
   "metadata": {},
   "source": [
    "We are now ready to train a network with this data."
   ]
  }
 ],
 "metadata": {
  "kernelspec": {
   "display_name": "Python 3 (ipykernel)",
   "language": "python",
   "name": "python3"
  },
  "language_info": {
   "codemirror_mode": {
    "name": "ipython",
    "version": 3
   },
   "file_extension": ".py",
   "mimetype": "text/x-python",
   "name": "python",
   "nbconvert_exporter": "python",
   "pygments_lexer": "ipython3",
   "version": "3.8.10"
  }
 },
 "nbformat": 4,
 "nbformat_minor": 5
}
