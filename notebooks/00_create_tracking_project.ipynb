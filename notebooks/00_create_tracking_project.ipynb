{
 "cells": [
  {
   "cell_type": "markdown",
   "id": "b7a5ff71-d226-4a51-aee7-c8994cec270c",
   "metadata": {},
   "source": [
    "# Creating a tracking project\n",
    "\n",
    "Most of the configuration for your tracking project is stored in a TrackingProject object. \n",
    "\n",
    "The configuration and dataset for your project will be saved in a directory should ideally be kept separately from the unet-tracker repository code. The project directory will be several 100 Mb once you have saved the images used to train your model.\n",
    "\n",
    "The configuration is saved to and loaded from a `config.yalm` file that is located in your project directory. You can edit this file manually if needed and reload the configuration from file.\n"
   ]
  },
  {
   "cell_type": "markdown",
   "id": "504a9ca5-1ef2-47a1-a573-2a8f0395265b",
   "metadata": {},
   "source": [
    "If you create a TrackingProject and give an `object_list`, the codes assumes that you want to create a new project."
   ]
  },
  {
   "cell_type": "code",
   "execution_count": 4,
   "id": "ca056401-cb63-4bc0-b42d-e4d7812e67fa",
   "metadata": {},
   "outputs": [
    {
     "ename": "SyntaxError",
     "evalue": "invalid syntax (2880116563.py, line 1)",
     "output_type": "error",
     "traceback": [
      "\u001b[0;36m  Cell \u001b[0;32mIn [4], line 1\u001b[0;36m\u001b[0m\n\u001b[0;31m    from unet-tracker.trackingProject import TrackingProject\u001b[0m\n\u001b[0m             ^\u001b[0m\n\u001b[0;31mSyntaxError\u001b[0m\u001b[0;31m:\u001b[0m invalid syntax\n"
     ]
    }
   ],
   "source": [
    "from unet-tracker.trackingProject import TrackingProject"
   ]
  },
  {
   "cell_type": "code",
   "execution_count": null,
   "id": "113514ca-5e05-4999-a34f-675dd4d75c42",
   "metadata": {},
   "outputs": [],
   "source": [
    "project = TrackingProject(name=\"mouseTrack\",root_folder = \"/home/kevin/Documents/trackingProjects/\",object_list=[\"snout\",\"earL\",\"earR\",\"tail\"],target_radius=6)\n",
    "project.create_project_directories()\n",
    "project.save_configuration()"
   ]
  }
 ],
 "metadata": {
  "kernelspec": {
   "display_name": "Python 3 (ipykernel)",
   "language": "python",
   "name": "python3"
  },
  "language_info": {
   "codemirror_mode": {
    "name": "ipython",
    "version": 3
   },
   "file_extension": ".py",
   "mimetype": "text/x-python",
   "name": "python",
   "nbconvert_exporter": "python",
   "pygments_lexer": "ipython3",
   "version": "3.8.10"
  }
 },
 "nbformat": 4,
 "nbformat_minor": 5
}
