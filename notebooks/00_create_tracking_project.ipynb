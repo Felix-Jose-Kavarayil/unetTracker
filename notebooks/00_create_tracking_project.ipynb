{
 "cells": [
  {
   "cell_type": "markdown",
   "id": "b7a5ff71-d226-4a51-aee7-c8994cec270c",
   "metadata": {},
   "source": [
    "# Creating a tracking project\n",
    "\n",
    "Most of the configuration for your tracking project is stored in a TrackingProject object. \n",
    "\n",
    "The configuration and dataset for your project will be saved in a directory should ideally be kept separately from the unet-tracker repository code. The project directory will be several 100 Mb once you have saved the images used to train your model.\n",
    "\n",
    "The configuration is saved to and loaded from a `config.yalm` file that is located in your project directory. You can edit this file manually if needed and reload the configuration from file.\n"
   ]
  },
  {
   "cell_type": "markdown",
   "id": "504a9ca5-1ef2-47a1-a573-2a8f0395265b",
   "metadata": {},
   "source": [
    "If you create a TrackingProject and give an `object_list`, the codes assumes that you want to create a new project."
   ]
  },
  {
   "cell_type": "code",
   "execution_count": 4,
   "id": "ca056401-cb63-4bc0-b42d-e4d7812e67fa",
   "metadata": {},
   "outputs": [],
   "source": [
    "from unetTracker.trackingProject import TrackingProject"
   ]
  },
  {
   "cell_type": "code",
   "execution_count": 5,
   "id": "16ec2381-de0e-431b-b628-5de55e14e585",
   "metadata": {},
   "outputs": [
    {
     "name": "stdout",
     "output_type": "stream",
     "text": [
      "Project directory: /home/kevin/Documents/trackingProjects/mouseTrack\n"
     ]
    }
   ],
   "source": [
    "project = TrackingProject(name=\"mouseTrack\",root_folder = \"/home/kevin/Documents/trackingProjects/\",object_list=[\"snout\",\"earL\",\"earR\",\"tail\"],target_radius=6)"
   ]
  },
  {
   "cell_type": "markdown",
   "id": "d2c14b77-4ba1-4b88-a59d-b701309768c6",
   "metadata": {},
   "source": [
    "You can now create the project directory and save a default configuration file."
   ]
  },
  {
   "cell_type": "code",
   "execution_count": 6,
   "id": "d9ba9ec0-a4a5-4aec-9fc9-38386c0a295a",
   "metadata": {},
   "outputs": [
    {
     "name": "stdout",
     "output_type": "stream",
     "text": [
      "Create /home/kevin/Documents/trackingProjects/mouseTrack\n",
      "Create /home/kevin/Documents/trackingProjects/mouseTrack/dataset\n",
      "Create /home/kevin/Documents/trackingProjects/mouseTrack/dataset/images\n",
      "Create /home/kevin/Documents/trackingProjects/mouseTrack/dataset/coordinates\n",
      "Create /home/kevin/Documents/trackingProjects/mouseTrack/dataset/masks\n",
      "Create /home/kevin/Documents/trackingProjects/mouseTrack/models\n",
      "Saving /home/kevin/Documents/trackingProjects/mouseTrack/config.yalm\n"
     ]
    }
   ],
   "source": [
    "project.create_project_directories()\n",
    "project.save_configuration()"
   ]
  },
  {
   "cell_type": "markdown",
   "id": "b180f76e-c120-4f11-a7d6-1acdc197d194",
   "metadata": {},
   "source": [
    "You can now edit the `config.yalm` file.\n",
    "\n",
    "When you are done you can load the new configuration from file"
   ]
  },
  {
   "cell_type": "code",
   "execution_count": 7,
   "id": "beaeec22-de8c-4573-bce7-48268aeb2c10",
   "metadata": {},
   "outputs": [
    {
     "name": "stdout",
     "output_type": "stream",
     "text": [
      "Loading /home/kevin/Documents/trackingProjects/mouseTrack/config.yalm\n",
      "{'augmentation_HorizontalFlipProb': 0.5, 'augmentation_RandomBrightnessContrastProb': 0.2, 'augmentation_RandomSizedCropProb': 1.0, 'augmentation_RotateProb': 0.3, 'image_size': [480, 640], 'labeling_ImageEnlargeFactor': 2.0, 'name': 'mouseTrack', 'normalization_values': None, 'object_colors': [(0.0, 0.0, 255.0), (255.0, 0.0, 0.0), (255.0, 255.0, 0.0), (240.0, 255.0, 255.0)], 'objects': ['snout', 'earL', 'earR', 'tail'], 'target_radius': 6}\n"
     ]
    }
   ],
   "source": [
    "project.load_configuration()"
   ]
  },
  {
   "cell_type": "markdown",
   "id": "c414385b-5522-4979-8e67-09b00d680da4",
   "metadata": {},
   "source": [
    "The next time you want to create a TrackingProject object for your existing project, you can simply point to the existing project directory.\n",
    "\n",
    "Because there is no object list given as argument, the code will look for an existing project and load the configuration from file."
   ]
  },
  {
   "cell_type": "code",
   "execution_count": 8,
   "id": "5f6128f4-1c54-42f0-9ab5-fc413ead6f74",
   "metadata": {},
   "outputs": [
    {
     "name": "stdout",
     "output_type": "stream",
     "text": [
      "Project directory: /home/kevin/Documents/trackingProjects/mouseTrack\n",
      "Loading /home/kevin/Documents/trackingProjects/mouseTrack/config.yalm\n",
      "{'augmentation_HorizontalFlipProb': 0.5, 'augmentation_RandomBrightnessContrastProb': 0.2, 'augmentation_RandomSizedCropProb': 1.0, 'augmentation_RotateProb': 0.3, 'image_size': [480, 640], 'labeling_ImageEnlargeFactor': 2.0, 'name': 'mouseTrack', 'normalization_values': None, 'object_colors': [(0.0, 0.0, 255.0), (255.0, 0.0, 0.0), (255.0, 255.0, 0.0), (240.0, 255.0, 255.0)], 'objects': ['snout', 'earL', 'earR', 'tail'], 'target_radius': 6}\n"
     ]
    }
   ],
   "source": [
    "project = TrackingProject(name=\"mouseTrack\",root_folder = \"/home/kevin/Documents/trackingProjects/\")"
   ]
  },
  {
   "cell_type": "code",
   "execution_count": null,
   "id": "6f0101e3-b482-4a4a-83e1-aeb8e274d7f6",
   "metadata": {},
   "outputs": [],
   "source": []
  }
 ],
 "metadata": {
  "kernelspec": {
   "display_name": "Python 3 (ipykernel)",
   "language": "python",
   "name": "python3"
  },
  "language_info": {
   "codemirror_mode": {
    "name": "ipython",
    "version": 3
   },
   "file_extension": ".py",
   "mimetype": "text/x-python",
   "name": "python",
   "nbconvert_exporter": "python",
   "pygments_lexer": "ipython3",
   "version": "3.8.10"
  }
 },
 "nbformat": 4,
 "nbformat_minor": 5
}
