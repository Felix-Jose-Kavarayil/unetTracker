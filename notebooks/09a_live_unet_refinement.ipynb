{
 "cells": [
  {
   "cell_type": "markdown",
   "id": "31e90528-ef72-456b-9e05-3792e9815b49",
   "metadata": {},
   "source": [
    "# U-Net live from a camera feed\n",
    "\n",
    "We want to see the output of our model on live images from a camera."
   ]
  },
  {
   "cell_type": "code",
   "execution_count": 1,
   "id": "1ee16623-6902-4264-aa16-7a3b62cfbe37",
   "metadata": {},
   "outputs": [],
   "source": [
    "import torch\n",
    "from unetTracker.trackingProject import TrackingProject\n",
    "from unetTracker.dataset import UNetDataset\n",
    "from unetTracker.unet import Unet\n",
    "from unetTracker.camera import USBCamera, bgr8_to_jpeg\n",
    "from unetTracker.unetGUI import LabelFromCameraGUI"
   ]
  },
  {
   "cell_type": "code",
   "execution_count": 2,
   "id": "2eba8f70-835c-4657-b819-b8bc61f5ea70",
   "metadata": {},
   "outputs": [
    {
     "name": "stdout",
     "output_type": "stream",
     "text": [
      "Project directory: /home/kevin/Documents/trackingProjects/faceTrack\n",
      "Loading /home/kevin/Documents/trackingProjects/faceTrack/config.yalm\n",
      "{'augmentation_HorizontalFlipProb': 0.0, 'augmentation_RandomBrightnessContrastProb': 0.2, 'augmentation_RandomSizedCropProb': 1.0, 'augmentation_RotateProb': 0.3, 'image_size': [480, 640], 'labeling_ImageEnlargeFactor': 2.0, 'name': 'faceTrack', 'normalization_values': {'means': [0.5110162496566772, 0.4608974754810333, 0.4772901237010956], 'stds': [0.2727729380130768, 0.2578601539134979, 0.256255567073822]}, 'object_colors': [(0.0, 0.0, 255.0), (255.0, 0.0, 0.0), (255.0, 255.0, 0.0), (128.0, 0.0, 128.0)], 'objects': ['nose', 'chin', 'rEye', 'lEye'], 'target_radius': 10}\n"
     ]
    }
   ],
   "source": [
    "project = TrackingProject(name=\"faceTrack\",root_folder = \"/home/kevin/Documents/trackingProjects/\")\n",
    "dataset = UNetDataset(image_dir=project.image_dir, mask_dir=project.mask_dir, coordinate_dir=project.coordinate_dir)"
   ]
  },
  {
   "cell_type": "code",
   "execution_count": 3,
   "id": "ff60cf0e-7743-4452-b155-a20b9218c8ad",
   "metadata": {},
   "outputs": [
    {
     "data": {
      "text/plain": [
       "643"
      ]
     },
     "execution_count": 3,
     "metadata": {},
     "output_type": "execute_result"
    }
   ],
   "source": [
    "len(dataset)"
   ]
  },
  {
   "cell_type": "code",
   "execution_count": 4,
   "id": "43dabd51-21c1-4da9-9ffa-ce323af7514f",
   "metadata": {},
   "outputs": [
    {
     "name": "stdout",
     "output_type": "stream",
     "text": [
      "Training on device cuda\n"
     ]
    }
   ],
   "source": [
    "device = (torch.device(\"cuda\") if torch.cuda.is_available() else torch.device(\"cpu\"))\n",
    "print(\"Training on device {}\".format(device))"
   ]
  },
  {
   "cell_type": "markdown",
   "id": "40d151d4-8a57-4604-96e1-23a138a7cb0a",
   "metadata": {},
   "source": [
    "## Model"
   ]
  },
  {
   "cell_type": "code",
   "execution_count": 5,
   "id": "c5c0065d-f8c8-4d40-878d-3e1814ed70b5",
   "metadata": {},
   "outputs": [
    {
     "data": {
      "text/plain": [
       "<All keys matched successfully>"
      ]
     },
     "execution_count": 5,
     "metadata": {},
     "output_type": "execute_result"
    }
   ],
   "source": [
    "model = Unet(in_channels=3,out_channels=len(project.object_list)).to(device)\n",
    "fn=project.model_fn\n",
    "model.load_state_dict(torch.load(fn,map_location=device))"
   ]
  },
  {
   "cell_type": "markdown",
   "id": "e8078056-df8d-4b6a-8824-8b67169a4ea0",
   "metadata": {},
   "source": [
    "Get the camera"
   ]
  },
  {
   "cell_type": "code",
   "execution_count": 6,
   "id": "48006a0a-3ff7-46c9-9426-0f6b9603ae37",
   "metadata": {},
   "outputs": [],
   "source": [
    "camera = USBCamera(width=640, height=480)"
   ]
  },
  {
   "cell_type": "code",
   "execution_count": 7,
   "id": "60c9d069-a9a3-4052-bedf-94caa74f48fc",
   "metadata": {},
   "outputs": [
    {
     "data": {
      "application/vnd.jupyter.widget-view+json": {
       "model_id": "1a917434e3bb4de889b8b10b8968b6fe",
       "version_major": 2,
       "version_minor": 0
      },
      "text/plain": [
       "VBox(children=(HBox(children=(Image(value=b'', format='jpeg', height='240.0', width='320.0'), Image(value=b'',…"
      ]
     },
     "metadata": {},
     "output_type": "display_data"
    }
   ],
   "source": [
    "gui = LabelFromCameraGUI(camera,project,dataset,model,device)"
   ]
  },
  {
   "cell_type": "markdown",
   "id": "1274b0d2-422f-4207-a02b-d6125f9ce553",
   "metadata": {},
   "source": [
    "You can regenerate you train and validation dataset and re-train your model."
   ]
  },
  {
   "cell_type": "code",
   "execution_count": null,
   "id": "77a1d019-860a-4fce-ae5e-907632bce9ae",
   "metadata": {},
   "outputs": [],
   "source": []
  }
 ],
 "metadata": {
  "kernelspec": {
   "display_name": "Python 3 (ipykernel)",
   "language": "python",
   "name": "python3"
  },
  "language_info": {
   "codemirror_mode": {
    "name": "ipython",
    "version": 3
   },
   "file_extension": ".py",
   "mimetype": "text/x-python",
   "name": "python",
   "nbconvert_exporter": "python",
   "pygments_lexer": "ipython3",
   "version": "3.8.10"
  }
 },
 "nbformat": 4,
 "nbformat_minor": 5
}
