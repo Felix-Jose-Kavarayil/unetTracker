{
 "cells": [
  {
   "cell_type": "markdown",
   "id": "c5872534-3dd4-46b9-a862-b6deb6c1dfd7",
   "metadata": {},
   "source": [
    "# Label a video\n",
    "\n",
    "Before labeling a video, you need to track your object in this video. See notebook `10_track_videos.ipynb`.\n",
    "\n",
    "Here we will just add markers where the object were detected."
   ]
  },
  {
   "cell_type": "code",
   "execution_count": 1,
   "id": "ec1e634c-4a01-4168-adb5-250d2cfb8d03",
   "metadata": {},
   "outputs": [],
   "source": [
    "import cv2\n",
    "import os\n",
    "import numpy as np\n",
    "import pandas as pd\n",
    "from tqdm import tqdm\n",
    "from unetTracker.trackingProject import TrackingProject\n",
    "import matplotlib.pyplot as plt\n",
    "from unetTracker.utils import label_video"
   ]
  },
  {
   "cell_type": "code",
   "execution_count": 2,
   "id": "5f56193b-bc93-4612-a5b0-65b04c03e7d5",
   "metadata": {},
   "outputs": [
    {
     "name": "stdout",
     "output_type": "stream",
     "text": [
      "Project directory: /home/kevin/Documents/trackingProjects/faceTrack\n",
      "Loading /home/kevin/Documents/trackingProjects/faceTrack/config.yalm\n",
      "{'augmentation_HorizontalFlipProb': 0.0, 'augmentation_RandomBrightnessContrastProb': 0.2, 'augmentation_RandomSizedCropProb': 1.0, 'augmentation_RotateProb': 0.3, 'image_size': [480, 640], 'labeling_ImageEnlargeFactor': 2.0, 'name': 'faceTrack', 'normalization_values': {'means': [0.5110162496566772, 0.4608974754810333, 0.4772901237010956], 'stds': [0.2727729380130768, 0.2578601539134979, 0.256255567073822]}, 'object_colors': [(0.0, 0.0, 255.0), (255.0, 0.0, 0.0), (255.0, 255.0, 0.0), (128.0, 0.0, 128.0)], 'objects': ['nose', 'chin', 'rEye', 'lEye'], 'target_radius': 10}\n"
     ]
    }
   ],
   "source": [
    "project = TrackingProject(name=\"faceTrack\",root_folder = \"/home/kevin/Documents/trackingProjects/\")"
   ]
  },
  {
   "cell_type": "code",
   "execution_count": 3,
   "id": "072e2151-0e63-4078-b0b0-021b6b389f6e",
   "metadata": {},
   "outputs": [
    {
     "name": "stdout",
     "output_type": "stream",
     "text": [
      "/tmp/video1.avi /tmp/video1.csv /tmp/video1_label.avi\n"
     ]
    }
   ],
   "source": [
    "video_fn = '/tmp/video1.avi'\n",
    "tracking_fn = (os.path.splitext(video_fn)[0]) + \".csv\"\n",
    "label_fn = (os.path.splitext(video_fn)[0]) + \"_label.avi\"\n",
    "print(video_fn, tracking_fn,label_fn)"
   ]
  },
  {
   "cell_type": "code",
   "execution_count": 5,
   "id": "ffe8ae09-cb01-4d8e-b825-cf75ab9fc5bb",
   "metadata": {},
   "outputs": [
    {
     "name": "stdout",
     "output_type": "stream",
     "text": [
      "Number of frames: 300\n"
     ]
    },
    {
     "name": "stderr",
     "output_type": "stream",
     "text": [
      "100%|████████████████████████████████████████| 300/300 [00:01<00:00, 292.37it/s]\n"
     ]
    }
   ],
   "source": [
    "label_video(project,video_fn,tracking_fn,label_fn)"
   ]
  }
 ],
 "metadata": {
  "kernelspec": {
   "display_name": "Python 3 (ipykernel)",
   "language": "python",
   "name": "python3"
  },
  "language_info": {
   "codemirror_mode": {
    "name": "ipython",
    "version": 3
   },
   "file_extension": ".py",
   "mimetype": "text/x-python",
   "name": "python",
   "nbconvert_exporter": "python",
   "pygments_lexer": "ipython3",
   "version": "3.8.10"
  }
 },
 "nbformat": 4,
 "nbformat_minor": 5
}
