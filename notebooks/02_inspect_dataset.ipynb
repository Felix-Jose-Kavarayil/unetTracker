{
 "cells": [
  {
   "cell_type": "markdown",
   "id": "accf3283-fcfc-4a05-bddf-22c97f3181e6",
   "metadata": {},
   "source": [
    "# Dataset inspection\n",
    "\n",
    "We want to be able to look at our labeling to make sure it is correct. \n",
    "\n",
    "Nothing like training a network with erronous labels to get bad tracking!\n"
   ]
  },
  {
   "cell_type": "code",
   "execution_count": 1,
   "id": "7bbde9ab-c930-4216-8b4f-193f614cb480",
   "metadata": {},
   "outputs": [],
   "source": [
    "from unetTracker.trackingProject import TrackingProject\n",
    "from unetTracker.multiClassUNetDataset import MultiClassUNetDataset"
   ]
  },
  {
   "cell_type": "code",
   "execution_count": 2,
   "id": "0a8169a6-9571-4fdf-94fb-099f925e9c85",
   "metadata": {},
   "outputs": [
    {
     "name": "stdout",
     "output_type": "stream",
     "text": [
      "Project directory: /home/kevin/Documents/trackingProjects/faceTrack\n",
      "Loading /home/kevin/Documents/trackingProjects/faceTrack/config.yalm\n",
      "{'augmentation_HorizontalFlipProb': 0.0, 'augmentation_RandomBrightnessContrastProb': 0.2, 'augmentation_RandomSizedCropProb': 1.0, 'augmentation_RotateProb': 0.3, 'image_size': [480, 640], 'labeling_ImageEnlargeFactor': 2.0, 'name': 'faceTrack', 'object_colors': [(0.0, 0.0, 255.0), (255.0, 0.0, 0.0), (255.0, 255.0, 0.0), (128.0, 0.0, 128.0)], 'objects': ['nose', 'chin', 'rEye', 'lEye'], 'target_radius': 10}\n"
     ]
    }
   ],
   "source": [
    "project = TrackingProject(name=\"faceTrack\",root_folder = \"/home/kevin/Documents/trackingProjects/\")\n",
    "dataset = MultiClassUNetDataset(image_dir=project.image_dir, mask_dir=project.mask_dir, coordinates_dir=project.coordinates_dir)"
   ]
  },
  {
   "cell_type": "code",
   "execution_count": 17,
   "id": "eb044738-087c-42c9-8e83-78d6d6bc8e8d",
   "metadata": {},
   "outputs": [],
   "source": [
    "import ipywidgets as widgets\n",
    "import threading\n",
    "from ipywidgets import Label, HTML, HBox, Image, VBox, Box, HBox\n",
    "from ipyevents import Event \n",
    "from IPython.display import display\n",
    "from unetTracker.camera import bgr8_to_jpeg\n",
    "import cv2\n",
    "import numpy as np\n",
    "import glob\n",
    "import os\n",
    "import torch\n",
    "import ntpath\n",
    "    \n",
    "################################\n",
    "####### work with images #######\n",
    "################################\n",
    "class ReviewDatasetGUI():\n",
    "    \"\"\"\n",
    "    Class to label frames from a camera feed.\n",
    "    \"\"\"\n",
    "    def __init__(self,project,dataset):\n",
    "\n",
    "        self.project = project\n",
    "        self.dataset = dataset\n",
    "        \n",
    "        self.imgWidget = Image(format='jpeg',height=project.image_size[0], width=project.image_size[1])\n",
    "        self.htmlWidget = HTML('Event info')\n",
    "        self.frameNameWidget = HTML('Frame name')\n",
    "        \n",
    "        \n",
    "        self.previousButton = widgets.Button(description='Previous frame',\n",
    "                            disabled=False,\n",
    "                            button_style='', # 'success', 'info', 'warning', 'danger' or ''\n",
    "                            tooltip='Click me',\n",
    "                            icon='check') # (FontAwesome names without the `fa-` prefix)\n",
    "        \n",
    "        self.nextButton = widgets.Button(description='Next frame',\n",
    "                            disabled=False,\n",
    "                            button_style='', # 'success', 'info', 'warning', 'danger' or ''\n",
    "                            tooltip='Click me',\n",
    "                            icon='check') # (FontAwesome names without the `fa-` prefix)\n",
    "        \n",
    "        \n",
    "        self.deleteButton = widgets.Button(description='Delete frame',\n",
    "                            disabled=False,\n",
    "                            button_style='', # 'success', 'info', 'warning', 'danger' or ''\n",
    "                            tooltip='Click me',\n",
    "                            icon='check') # (FontAwesome names without the `fa-` prefix)\n",
    "        \n",
    "        \n",
    "        self.previousEvent = Event(source=self.previousButton, watched_events=['click'])\n",
    "        self.previousEvent.on_dom_event(self.previous_handle_event)\n",
    "        \n",
    "        self.nextEvent = Event(source=self.nextButton, watched_events=['click'])\n",
    "        self.nextEvent.on_dom_event(self.next_handle_event)\n",
    "        \n",
    "        \n",
    "        self.deleteEvent = Event(source=self.deleteButton, watched_events=['click'])\n",
    "        self.deleteEvent.on_dom_event(self.delete_handle_event)\n",
    "        \n",
    "        \n",
    "        \n",
    "        self.imageIndex = 0\n",
    "        frame = self.get_labelled_image(self.imageIndex)\n",
    "        self.imgWidget.value = bgr8_to_jpeg(frame)\n",
    "        \n",
    "        fn = self.dataset.get_image_file_name(self.imageIndex)\n",
    "        lines = ntpath.basename(fn) \n",
    "        content = \"  \".join(lines)\n",
    "        self.frameNameWidget.value = content   \n",
    "        \n",
    "        \n",
    "        \n",
    "        lines = \"{} / {}\".format(self.imageIndex,len(dataset))\n",
    "        content = \"  \".join(lines)\n",
    "        self.htmlWidget.value = content   \n",
    "            \n",
    "        display(VBox([HBox([self.htmlWidget, self.previousButton, self.nextButton, self.deleteButton]),\n",
    "                      self.frameNameWidget,\n",
    "                      self.imgWidget]))\n",
    "    \n",
    "    def delete_handle_event(self,event):\n",
    "        self.dataset.delete_entry(self.imageIndex)\n",
    "        \n",
    "        frame = self.get_labelled_image(self.imageIndex)\n",
    "        fn = self.dataset.get_image_file_name(self.imageIndex)\n",
    "        self.imgWidget.value = bgr8_to_jpeg(frame)\n",
    "        \n",
    "        fn = self.dataset.get_image_file_name(self.imageIndex)\n",
    "        lines = ntpath.basename(fn) \n",
    "        content = \"  \".join(lines)\n",
    "        self.frameNameWidget.value = content   \n",
    "        \n",
    "\n",
    "    def previous_handle_event(self,event):\n",
    "        self.imageIndex-=1\n",
    "        if self.imageIndex < 0:\n",
    "            self.imageIndex =  len(self.dataset)-1\n",
    "       \n",
    "        fn = self.dataset.get_image_file_name(self.imageIndex)\n",
    "        lines = ntpath.basename(fn) \n",
    "        content = \"  \".join(lines)\n",
    "        self.frameNameWidget.value = content   \n",
    "    \n",
    "        lines = \"{} / {}\".format(self.imageIndex,len(self.dataset))\n",
    "        content = \"  \".join(lines)\n",
    "        self.htmlWidget.value = content   \n",
    "        \n",
    "        frame = self.get_labelled_image(self.imageIndex)\n",
    "        self.imgWidget.value = bgr8_to_jpeg(frame)    \n",
    "       \n",
    "        \n",
    "    def next_handle_event(self,event):\n",
    "        self.imageIndex+=1\n",
    "        if self.imageIndex >= len(self.dataset):\n",
    "            self.imageIndex = 0\n",
    "        \n",
    "        fn = self.dataset.get_image_file_name(self.imageIndex)\n",
    "        lines = ntpath.basename(fn) \n",
    "        content = \"  \".join(lines)\n",
    "        self.frameNameWidget.value = content   \n",
    "       \n",
    "        lines = \"{} / {}\".format(self.imageIndex,len(self.dataset))\n",
    "        content = \"  \".join(lines)\n",
    "        self.htmlWidget.value = content   \n",
    "    \n",
    "    \n",
    "        frame = self.get_labelled_image(self.imageIndex)\n",
    "        \n",
    "       \n",
    "        \n",
    "        self.imgWidget.value = bgr8_to_jpeg(frame)\n",
    "        \n",
    "    \n",
    "    def get_labelled_image(self,index):\n",
    "        frame,mask,coord = self.dataset[self.imageIndex]\n",
    "        frame = frame.permute(1,2,0).numpy()*255\n",
    "        \n",
    "        for i,myObject in enumerate(self.project.object_list):\n",
    "            x=int(coord[i][0])\n",
    "            y=int(coord[i][1])\n",
    "            if(x!=0 and y!=0):\n",
    "                cv2.circle(frame,(x,y), self.project.target_radius, self.project.object_colors[i], -1)\n",
    "        return frame\n",
    "        \n",
    "        "
   ]
  },
  {
   "cell_type": "code",
   "execution_count": 18,
   "id": "7758ec89-1cca-4a94-b38a-122057d12bcb",
   "metadata": {},
   "outputs": [
    {
     "data": {
      "application/vnd.jupyter.widget-view+json": {
       "model_id": "cdc7c05fa37a473d8ff138d8607f9e37",
       "version_major": 2,
       "version_minor": 0
      },
      "text/plain": [
       "VBox(children=(HBox(children=(HTML(value='0     /     4  8  8'), Button(description='Previous frame', icon='ch…"
      ]
     },
     "metadata": {},
     "output_type": "display_data"
    }
   ],
   "source": [
    "gui = ReviewDatasetGUI(project,dataset)"
   ]
  },
  {
   "cell_type": "code",
   "execution_count": 19,
   "id": "89d8c518-f0c2-475e-a072-e7c29bf855ea",
   "metadata": {},
   "outputs": [
    {
     "data": {
      "text/plain": [
       "461"
      ]
     },
     "execution_count": 19,
     "metadata": {},
     "output_type": "execute_result"
    }
   ],
   "source": [
    "len(dataset)"
   ]
  },
  {
   "cell_type": "code",
   "execution_count": null,
   "id": "ba3f0bb0-b99b-4f84-a705-a50e66f1552a",
   "metadata": {},
   "outputs": [],
   "source": []
  }
 ],
 "metadata": {
  "kernelspec": {
   "display_name": "Python 3 (ipykernel)",
   "language": "python",
   "name": "python3"
  },
  "language_info": {
   "codemirror_mode": {
    "name": "ipython",
    "version": 3
   },
   "file_extension": ".py",
   "mimetype": "text/x-python",
   "name": "python",
   "nbconvert_exporter": "python",
   "pygments_lexer": "ipython3",
   "version": "3.8.10"
  }
 },
 "nbformat": 4,
 "nbformat_minor": 5
}
