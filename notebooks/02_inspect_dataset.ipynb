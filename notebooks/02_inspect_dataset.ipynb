{
 "cells": [
  {
   "cell_type": "markdown",
   "id": "accf3283-fcfc-4a05-bddf-22c97f3181e6",
   "metadata": {},
   "source": [
    "# Dataset inspection\n",
    "\n",
    "We want to be able to look at our labeling to make sure it is correct. \n",
    "\n",
    "Nothing like training a network with erronous labels to get bad tracking!\n"
   ]
  },
  {
   "cell_type": "code",
   "execution_count": 1,
   "id": "7bbde9ab-c930-4216-8b4f-193f614cb480",
   "metadata": {},
   "outputs": [],
   "source": [
    "from unetTracker.trackingProject import TrackingProject\n",
    "from unetTracker.dataset import UNetDataset\n",
    "from unetTracker.unetGUI import ReviewDatasetGUI"
   ]
  },
  {
   "cell_type": "code",
   "execution_count": 2,
   "id": "0a8169a6-9571-4fdf-94fb-099f925e9c85",
   "metadata": {},
   "outputs": [
    {
     "name": "stdout",
     "output_type": "stream",
     "text": [
      "Project directory: /home/kevin/Documents/trackingProjects/mouseTrack\n",
      "Loading /home/kevin/Documents/trackingProjects/mouseTrack/config.yalm\n",
      "{'augmentation_HorizontalFlipProb': 0.0, 'augmentation_RandomBrightnessContrastProb': 0.2, 'augmentation_RandomSizedCropProb': 1.0, 'augmentation_RotateProb': 0.3, 'image_size': [480, 480], 'labeling_ImageEnlargeFactor': 2.0, 'name': 'mouseTrack', 'normalization_values': None, 'object_colors': [(0.0, 0.0, 255.0), (255.0, 0.0, 0.0), (255.0, 255.0, 0.0), (240.0, 255.0, 255.0)], 'objects': ['snout', 'earL', 'earR', 'tail'], 'target_radius': 5}\n"
     ]
    }
   ],
   "source": [
    "project = TrackingProject(name=\"mouseTrack\",root_folder = \"/home/kevin/Documents/trackingProjects/\")\n",
    "dataset = UNetDataset(image_dir=project.image_dir, mask_dir=project.mask_dir, coordinate_dir=project.coordinate_dir)"
   ]
  },
  {
   "cell_type": "code",
   "execution_count": 3,
   "id": "7758ec89-1cca-4a94-b38a-122057d12bcb",
   "metadata": {},
   "outputs": [
    {
     "data": {
      "application/vnd.jupyter.widget-view+json": {
       "model_id": "65a64c25e2f14147b609468bc10834bf",
       "version_major": 2,
       "version_minor": 0
      },
      "text/plain": [
       "VBox(children=(HBox(children=(HTML(value='0     /     5  0'), Button(description='Previous frame', icon='check…"
      ]
     },
     "metadata": {},
     "output_type": "display_data"
    }
   ],
   "source": [
    "gui = ReviewDatasetGUI(project,dataset)"
   ]
  },
  {
   "cell_type": "code",
   "execution_count": 4,
   "id": "89d8c518-f0c2-475e-a072-e7c29bf855ea",
   "metadata": {},
   "outputs": [
    {
     "data": {
      "text/plain": [
       "50"
      ]
     },
     "execution_count": 4,
     "metadata": {},
     "output_type": "execute_result"
    }
   ],
   "source": [
    "len(dataset)"
   ]
  },
  {
   "cell_type": "code",
   "execution_count": null,
   "id": "ba3f0bb0-b99b-4f84-a705-a50e66f1552a",
   "metadata": {},
   "outputs": [],
   "source": []
  }
 ],
 "metadata": {
  "kernelspec": {
   "display_name": "Python 3 (ipykernel)",
   "language": "python",
   "name": "python3"
  },
  "language_info": {
   "codemirror_mode": {
    "name": "ipython",
    "version": 3
   },
   "file_extension": ".py",
   "mimetype": "text/x-python",
   "name": "python",
   "nbconvert_exporter": "python",
   "pygments_lexer": "ipython3",
   "version": "3.8.10"
  }
 },
 "nbformat": 4,
 "nbformat_minor": 5
}
