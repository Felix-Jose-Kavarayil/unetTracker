{
 "cells": [
  {
   "cell_type": "markdown",
   "id": "accf3283-fcfc-4a05-bddf-22c97f3181e6",
   "metadata": {},
   "source": [
    "# Dataset inspection\n",
    "\n",
    "We want to be able to look at our labeling to make sure it is correct. \n",
    "\n",
    "Nothing like training a network with erronous labels!"
   ]
  },
  {
   "cell_type": "code",
   "execution_count": null,
   "id": "eb044738-087c-42c9-8e83-78d6d6bc8e8d",
   "metadata": {},
   "outputs": [],
   "source": []
  }
 ],
 "metadata": {
  "kernelspec": {
   "display_name": "Python 3 (ipykernel)",
   "language": "python",
   "name": "python3"
  },
  "language_info": {
   "codemirror_mode": {
    "name": "ipython",
    "version": 3
   },
   "file_extension": ".py",
   "mimetype": "text/x-python",
   "name": "python",
   "nbconvert_exporter": "python",
   "pygments_lexer": "ipython3",
   "version": "3.8.10"
  }
 },
 "nbformat": 4,
 "nbformat_minor": 5
}
